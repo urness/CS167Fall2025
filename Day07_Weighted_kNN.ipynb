{
  "nbformat": 4,
  "nbformat_minor": 0,
  "metadata": {
    "colab": {
      "provenance": [],
      "authorship_tag": "ABX9TyOa6UEkugh1FSx6JMuzXQZx",
      "include_colab_link": true
    },
    "kernelspec": {
      "name": "python3",
      "display_name": "Python 3"
    },
    "language_info": {
      "name": "python"
    }
  },
  "cells": [
    {
      "cell_type": "markdown",
      "metadata": {
        "id": "view-in-github",
        "colab_type": "text"
      },
      "source": [
        "<a href=\"https://colab.research.google.com/github/urness/CS167Fall2025/blob/main/Day07_Weighted_kNN.ipynb\" target=\"_parent\"><img src=\"https://colab.research.google.com/assets/colab-badge.svg\" alt=\"Open In Colab\"/></a>"
      ]
    },
    {
      "cell_type": "markdown",
      "source": [
        "# CS167: Day07\n",
        "##Weighted kNN\n",
        "\n",
        "#### CS167: Machine Learning, Fall 2025\n"
      ],
      "metadata": {
        "id": "8TmDLmOfqmAF"
      }
    },
    {
      "cell_type": "markdown",
      "source": [
        "## Before we get started, let's load in our datasets:\n",
        "Make sure you change the path to match your Google Drive.\n"
      ],
      "metadata": {
        "id": "jiRjSmfA-9Tk"
      }
    },
    {
      "cell_type": "code",
      "source": [
        "import pandas as pd\n",
        "import numpy as np\n",
        "\n",
        "# The first step is to mount your Google Drive to your Colab account.\n",
        "#You will be asked to authorize Colab to access your Google Drive. Follow the steps they lead you.\n",
        "\n",
        "from google.colab import drive\n",
        "drive.mount('/content/drive')"
      ],
      "metadata": {
        "id": "Nv96YoLBwemZ"
      },
      "execution_count": null,
      "outputs": []
    },
    {
      "cell_type": "code",
      "source": [
        "#import the data:\n",
        "#make sure the path on the line below corresponds to the path where you put your dataset.\n",
        "iris_df = pd.read_csv('/content/drive/MyDrive/CS167/datasets/irisData.csv')"
      ],
      "metadata": {
        "id": "0wCCrNCE_6G9"
      },
      "execution_count": null,
      "outputs": []
    },
    {
      "cell_type": "markdown",
      "source": [
        "## 💻 Programming Exercise (REVIEW)\n",
        "\n",
        "Normalize each of the predictor columns in the iris dataset.\n",
        "\n",
        "Use the knn function (with k=5) to predict the species of the following\n",
        "```\n",
        "new_iris = {}\n",
        "new_iris['petal length'] = 5.1\n",
        "new_iris['sepal length'] = 7.2\n",
        "new_iris['petal width'] = 1.5\n",
        "new_iris['sepal width'] = 2.5\n",
        "```\n",
        "\n",
        "> Note: you need a way to transform the new reading (the specimen) that you will make the precition on so that the new one and the training data will all be on the same sclae. How can you do that?\n"
      ],
      "metadata": {
        "id": "gHHTNBkOcnkH"
      }
    },
    {
      "cell_type": "code",
      "source": [
        "#petal_length\n",
        "pl_mean = iris_df['petal length'].mean()\n",
        "pl_std = iris_df['petal length'].std()\n",
        "\n",
        "#petal_width\n",
        "pw_mean = iris_df['petal width'].mean()\n",
        "pw_std = iris_df['petal width'].std()\n",
        "\n",
        "#sepal_length\n",
        "sl_mean = iris_df['sepal length'].mean()\n",
        "sl_std = iris_df['sepal length'].std()\n",
        "\n",
        "#sepal_width\n",
        "sw_mean = iris_df['sepal width'].mean()\n",
        "sw_std = iris_df['sepal width'].std()\n",
        "\n",
        "#make a copy of the original dataframe\n",
        "normalized_iris_df = iris_df.copy()\n",
        "\n",
        "#replace column with each entry's z-score\n",
        "normalized_iris_df['petal length'] = (normalized_iris_df['petal length'] - pl_mean)/pl_std\n",
        "normalized_iris_df['petal width'] = (normalized_iris_df['petal width'] - pw_mean)/pw_std\n",
        "normalized_iris_df['sepal length'] = (normalized_iris_df['sepal length'] - sl_mean)/sl_std\n",
        "normalized_iris_df['sepal width'] = (normalized_iris_df['sepal width'] - sw_mean)/sw_std\n",
        "normalized_iris_df.head()"
      ],
      "metadata": {
        "id": "plZuE6fOeIOl"
      },
      "execution_count": null,
      "outputs": []
    },
    {
      "cell_type": "code",
      "source": [
        "def kNN(specimen, data, k):\n",
        "    # 1. calculate distances\n",
        "    data['distance_to_new'] = np.sqrt(\n",
        "     (specimen['petal length'] - data['petal length'])**2\n",
        "    +(specimen['sepal length'] - data['sepal length'])**2\n",
        "    +(specimen['petal width'] - data['petal width'])**2\n",
        "    +(specimen['sepal width'] - data['sepal width'])**2)\n",
        "\n",
        "    # 2. sort\n",
        "    sorted_data = data.sort_values(['distance_to_new'])\n",
        "\n",
        "    # 3. predict\n",
        "    prediction = sorted_data.iloc[0:k]['species'].mode()[0]\n",
        "\n",
        "    return prediction"
      ],
      "metadata": {
        "id": "p3Sn-Zbld8Wm"
      },
      "execution_count": null,
      "outputs": []
    },
    {
      "cell_type": "code",
      "source": [
        "#classify this iris\n",
        "new_iris = {}\n",
        "new_iris['petal length'] = 5.1\n",
        "new_iris['sepal length'] = 7.2\n",
        "new_iris['petal width'] = 1.5\n",
        "new_iris['sepal width'] = 2.5\n",
        "\n",
        "# original data\n",
        "print(\"ORIGINAL DATA:\", kNN(new_iris, iris_df, 10))\n",
        "\n",
        "#normalize the new iris\n",
        "normalized_new_iris = {}\n",
        "normalized_new_iris['petal length'] = (5.1 - pl_mean)/pl_std\n",
        "normalized_new_iris['sepal length'] = (7.2 - sl_mean)/sl_std\n",
        "normalized_new_iris['petal width'] = (1.5 - pw_mean)/pw_std\n",
        "normalized_new_iris['sepal width'] = (2.5 - sw_mean)/sw_std\n",
        "\n",
        "# normalized data\n",
        "print(\"NORMALIZED DATA:\", kNN(normalized_new_iris, normalized_iris_df, 10))"
      ],
      "metadata": {
        "colab": {
          "base_uri": "https://localhost:8080/"
        },
        "id": "0VJjF9yggFFw",
        "outputId": "deed0e9f-8194-4b2f-bc21-10e7160acc0c"
      },
      "execution_count": null,
      "outputs": [
        {
          "output_type": "stream",
          "name": "stdout",
          "text": [
            "ORIGINAL DATA: Iris-versicolor\n",
            "NORMALIZED DATA: Iris-virginica\n"
          ]
        }
      ]
    },
    {
      "cell_type": "markdown",
      "source": [
        "#New Material"
      ],
      "metadata": {
        "id": "872EYsHI1kOF"
      }
    },
    {
      "cell_type": "markdown",
      "source": [
        "## First, let's learn a few new Pandas functions!\n",
        "- `display()`\n",
        "- `index()`"
      ],
      "metadata": {
        "id": "GATSl3tOHRkg"
      }
    },
    {
      "cell_type": "code",
      "source": [
        "# let's construct a Series\n",
        "colors = pd.Series(\n",
        "    {\n",
        "        \"Red\": 23.42,\n",
        "        \"Blue\": 42.23,\n",
        "        \"Green\": 12.34\n",
        "    },\n",
        "    name=\"colors\"\n",
        ")\n",
        "display(colors) # note the use of display (not print)"
      ],
      "metadata": {
        "id": "aFP6e0eNDPzC"
      },
      "execution_count": null,
      "outputs": []
    },
    {
      "cell_type": "code",
      "source": [
        "# sort the values --\n",
        "sorted_results = colors.sort_values(ascending=False)\n",
        "display(sorted_results)\n"
      ],
      "metadata": {
        "id": "swTDLDavDm90"
      },
      "execution_count": null,
      "outputs": []
    },
    {
      "cell_type": "code",
      "source": [
        "# get the value of the first element\n",
        "print(sorted_results.iloc[0])"
      ],
      "metadata": {
        "id": "Fc5BthTdD-Yn"
      },
      "execution_count": null,
      "outputs": []
    },
    {
      "cell_type": "code",
      "source": [
        "# get the label of the first element\n",
        "print(sorted_results.index[0])"
      ],
      "metadata": {
        "id": "qTLsyiJKEGED"
      },
      "execution_count": null,
      "outputs": []
    },
    {
      "cell_type": "markdown",
      "source": [
        "## Are all neighbors created equal?\n",
        "\n",
        "The way we've learned kNN so far, each neighbor gets an equal vote in the decision of what to predict.\n",
        "\n",
        "Do we see any problems with this? If so, what?"
      ],
      "metadata": {
        "id": "YAaLCus3VtWb"
      }
    },
    {
      "cell_type": "markdown",
      "source": [
        "<div>\n",
        "<img src=\"https://analytics.drake.edu/~reza/teaching/cs167_sp25/notes/images/day04_wknn_motivation.png\" width = 500/>\n",
        "</div>"
      ],
      "metadata": {
        "id": "9qgA2nQRVyFm"
      }
    },
    {
      "cell_type": "markdown",
      "source": [
        "Should neighbors that are closer to the new instance get a larger share of the vote?"
      ],
      "metadata": {
        "id": "08Jd96TMWHUz"
      }
    },
    {
      "cell_type": "markdown",
      "source": [
        "# Weighted k-NNN Intuition:\n",
        "\n",
        "In weighted kNN, the nearest k points are given a weight, and the weights are grouped by the target variable. The class with the largest sum of weights will be the class that is predicted.\n",
        "\n",
        "The intuition is to give more weight to the points that are nearby and less weight to the points that are farther away.\n",
        "- distance-weighted voting"
      ],
      "metadata": {
        "id": "jVHjgS0DWJ3u"
      }
    },
    {
      "cell_type": "markdown",
      "source": [
        "In w-kNN, we want to predict the target variable with the most weight, where the weight is defined by the inverse distance function.\n",
        "\n",
        "## $w_{q,i} = \\frac{1}{d(x_q, x_i)^2}$\n",
        "\n",
        "> In English, you can read that as the __weight__ of a training example is equal to 1 divided by the distance between the new instance and the training example squared."
      ],
      "metadata": {
        "id": "pLsgQRLzWwC1"
      }
    },
    {
      "cell_type": "markdown",
      "source": [
        "## A w-kNN Example: Step 1\n",
        "\n",
        "Start by calculating the distance between the new example ('X'), and each of the other training examples:\n",
        "\n",
        "<div>\n",
        "<img src=\"https://analytics.drake.edu/~reza/teaching/cs167_sp25/notes/images/day04_wknn_ex.png\"/>\n",
        "</div>"
      ],
      "metadata": {
        "id": "tCWGqrl7W1ZK"
      }
    },
    {
      "cell_type": "markdown",
      "source": [
        "## A w-kNN Example: Step 2\n",
        "\n",
        "Then, __calculate the weight___ of each training example using the inverse distance squared.\n",
        "\n",
        "<div>\n",
        "<img src=\"https://analytics.drake.edu/~reza/teaching/cs167_sp25/notes/images/day04_wknn_ex1.png\"/>\n",
        "</div>"
      ],
      "metadata": {
        "id": "r73_tYSCXCTE"
      }
    },
    {
      "cell_type": "markdown",
      "source": [
        "## A w-kNN Example: Step 3\n",
        "\n",
        "Find the k closest neighbors--let's assume `k=3` for this example:\n",
        "<div>\n",
        "<img src=\"https://analytics.drake.edu/~reza/teaching/cs167_sp25/notes/images/day04_wknn_ex2.png\"/>\n",
        "</div>"
      ],
      "metadata": {
        "id": "RwJtjVFTXPMa"
      }
    },
    {
      "cell_type": "markdown",
      "source": [
        "Then, sum the weights for each possible class:\n",
        "- __orange__: $1$\n",
        "- __blue__: $1/16 + 1/9 = 0.115$\n",
        "\n",
        "### What would a __normal 3NN__ predict? Weighted 3NN?"
      ],
      "metadata": {
        "id": "_z-qY3aOXd17"
      }
    },
    {
      "cell_type": "markdown",
      "source": [
        "## Let's write some code:\n",
        "\n",
        "Write a new function `weighted_knn()`\n",
        "\n",
        "Pass the iris measurements (specimen), data frame, and k as parameters and return the precited class."
      ],
      "metadata": {
        "id": "-ey9d_ddYHBB"
      }
    },
    {
      "cell_type": "code",
      "source": [
        "def weighted_kNN(specimen, data, k):\n",
        "\n",
        "    # step 1. calculate the distances from 'specimen' to all other samples in 'data'\n",
        "    data['distance_to_new'] = np.sqrt(\n",
        "    (specimen['petal length'] - data['petal length'])**2\n",
        "    +(specimen['sepal length'] - data['sepal length'])**2\n",
        "    +(specimen['petal width'] - data['petal width'])**2\n",
        "    +(specimen['sepal width'] - data['sepal width'])**2)\n",
        "\n",
        "    # step 2 calcuate the weights (remember, weights are 1/d^2)\n",
        "    #data['weights'] = YOUR CODE HERE\n",
        "\n",
        "    # step 3. find the k closest neighbors as follows\n",
        "    # step 3a. sort the data and take the first k samples as neighbors\n",
        "    sorted_data = data.sort_values(['distance_to_new'])\n",
        "    neighbors = data.iloc[0:k]\n",
        "\n",
        "    # step 3b. use groupby to sum the weights of each species in the closest k\n",
        "    # YOUR CODE HERE\n",
        "\n",
        "    # step 4. return the class that has the largest sum of weight.\n",
        "    # YOUR CODE HERE\n"
      ],
      "metadata": {
        "id": "GwuthPPWYJQ7"
      },
      "execution_count": null,
      "outputs": []
    },
    {
      "cell_type": "markdown",
      "source": [
        "The following section should be a *sanity check* that your implementation of `weighted_kNN` is correct. The output should look like the following:\n",
        "\n",
        "<div>\n",
        "<img src=\" https://analytics.drake.edu/~urness/CS167/CS167Sept16.png\"/>\n",
        "</div>\n"
      ],
      "metadata": {
        "id": "nz3kDYJEpFpc"
      }
    },
    {
      "cell_type": "code",
      "source": [
        "#load the data\n",
        "iris_df = pd.read_csv('/content/drive/MyDrive/CS167/datasets/irisData.csv')\n",
        "\n",
        "#create a new specimen to classify\n",
        "new_iris = {}\n",
        "new_iris['petal length'] = 5.1\n",
        "new_iris['sepal length'] = 7.2\n",
        "new_iris['petal width'] = 1.5\n",
        "new_iris['sepal width'] = 2.5\n",
        "\n",
        "# call the function\n",
        "result = weighted_kNN(new_iris,iris_df,3)\n",
        "print(\"weighted kNN with not normalized data; k=3 --- \", result)\n",
        "\n",
        "# let's display the top 3 results, with distances and weights\n",
        "display(iris_df.iloc[0:3][['species','distance_to_new', 'weights']])"
      ],
      "metadata": {
        "id": "jHgPXHMvN5U7"
      },
      "execution_count": null,
      "outputs": []
    },
    {
      "cell_type": "markdown",
      "source": [
        "#In-Class Exercise:\n",
        "For k=3, what is the prediction of iris dataset for the iris below for the options of\n",
        "*   unweighted kNN, NOT normalized\n",
        "*   unweighted kNN, normalized\n",
        "*   WEIGHTED kNN, NOT normalized\n",
        "*   WEIGHTED kNN, normalized\n",
        "\n",
        "```\n",
        "new_iris = {}\n",
        "new_iris['petal length'] = 5.1\n",
        "new_iris['sepal length'] = 7.2\n",
        "new_iris['petal width'] = 1.5\n",
        "new_iris['sepal width'] = 2.5\n",
        "```\n",
        "\n",
        "\n",
        "\n"
      ],
      "metadata": {
        "id": "VC9x_ENwqY6O"
      }
    },
    {
      "cell_type": "markdown",
      "source": [
        "## Use these tables to keep track of your predictions:\n",
        "### `k=3`\n",
        "|                    | **not normalized** | **normalized** |\n",
        "|--------------------|--------------------|----------------|\n",
        "| **unweighted kNN** |                    |               |\n",
        "| **weighted kNN**   |                    |                |\n",
        "\n",
        "### `k=5`\n",
        "\n",
        "|                    | **not normalized** | **normalized** |\n",
        "|--------------------|--------------------|----------------|\n",
        "| **unweighted kNN** |                    |                |\n",
        "| **weighted kNN**   |                    |                |"
      ],
      "metadata": {
        "id": "YJwNZqEpjSDZ"
      }
    },
    {
      "cell_type": "code",
      "source": [
        "new_iris = {}\n",
        "new_iris['petal length'] = 5.1\n",
        "new_iris['sepal length'] = 7.2\n",
        "new_iris['petal width'] = 1.5\n",
        "new_iris['sepal width'] = 2.5"
      ],
      "metadata": {
        "id": "6SoWLwN1G7yh"
      },
      "execution_count": null,
      "outputs": []
    },
    {
      "cell_type": "markdown",
      "source": [
        "# 💬 Discussion Question\n",
        "\n",
        "Should we __always__ normalize our data? Why or why not?\n",
        "\n",
        "When does it make sense to normalize? When might it make more sense not to?"
      ],
      "metadata": {
        "id": "K3FwXU0cJRg9"
      }
    },
    {
      "cell_type": "markdown",
      "source": [
        "\n",
        "\n",
        "---\n",
        "\n"
      ],
      "metadata": {
        "id": "2z9Fa7V-Kx50"
      }
    },
    {
      "cell_type": "markdown",
      "source": [
        "# Graphs!"
      ],
      "metadata": {
        "id": "I3qLyRfwKrap"
      }
    },
    {
      "cell_type": "code",
      "source": [
        "#import the data:\n",
        "#make sure the path on the line below corresponds to the path where you put your dataset.\n",
        "vehicles_df = pd.read_csv('/content/drive/MyDrive/CS167/datasets/vehicles.csv')"
      ],
      "metadata": {
        "id": "VntwL6WUMKKx"
      },
      "execution_count": null,
      "outputs": []
    },
    {
      "cell_type": "code",
      "source": [
        "import matplotlib.pyplot as plt\n",
        "%matplotlib inline\n",
        "\n",
        "#define our data\n",
        "xvals = [1,2,3,4,5]\n",
        "series1 = [0.66,0.61,0.69,0.73,0.77]\n",
        "series2 = [0.8,0.83,0.77,0.81,0.79]\n",
        "series3 = [0.55,0.67,0.5,0.73,0.66]\n",
        "\n",
        "#add titles to axis and graph\n",
        "plt.suptitle('my rockin plot', fontsize=18)\n",
        "plt.xlabel('a very cool x axis')\n",
        "plt.ylabel('awesome y axis')\n",
        "\n",
        "#plot the data\n",
        "plt.plot(xvals, series1, 'ro--', label='1st series')\n",
        "plt.plot(xvals, series2, 'bs-.', label='2nd series')\n",
        "plt.plot(xvals, series3, 'g^-', label='3rd series')\n",
        "plt.axis([0,6,0,1]) #[x_min, x_max, y_min, y_max]\n",
        "plt.show()"
      ],
      "metadata": {
        "colab": {
          "base_uri": "https://localhost:8080/",
          "height": 497
        },
        "id": "86twf8O2K1YP",
        "outputId": "3128a343-35ff-4b96-a6ec-0b6639d1ead2"
      },
      "execution_count": null,
      "outputs": [
        {
          "output_type": "display_data",
          "data": {
            "text/plain": [
              "<Figure size 640x480 with 1 Axes>"
            ],
            "image/png": "[encoded data removed]"
          },
          "metadata": {}
        }
      ]
    },
    {
      "cell_type": "code",
      "source": [
        "gas_vehicles = vehicles_df[vehicles_df['fuelType']=='Regular']\n",
        "\n",
        "# a silly function that returns the average MPG for the first k cars in the df\n",
        "def getAverageMPG(data, k):\n",
        "    return data[\"comb08\"].iloc[0:k].mean()\n",
        "\n",
        "number_of_points = 500\n",
        "\n",
        "#populate the series list\n",
        "series = []\n",
        "for i in range(1, number_of_points):\n",
        "    val = getAverageMPG(gas_vehicles, i)\n",
        "    series.append(val)\n",
        "\n",
        "#plot it!\n",
        "xvals = range(1, number_of_points)\n",
        "plt.suptitle('Average MPG', fontsize=18)\n",
        "plt.xlabel('cars used in average')\n",
        "plt.ylabel('average MPG')\n",
        "plt.plot(xvals, series, 'r,-', label='MPG')\n",
        "plt.legend(loc='lower right', shadow=True)\n",
        "plt.axis([1, number_of_points, 10,25])\n",
        "plt.show()"
      ],
      "metadata": {
        "colab": {
          "base_uri": "https://localhost:8080/",
          "height": 497
        },
        "id": "z7a4sqbDPODL",
        "outputId": "e4884d80-faca-4e55-b091-95743b0838b6"
      },
      "execution_count": null,
      "outputs": [
        {
          "output_type": "display_data",
          "data": {
            "text/plain": [
              "<Figure size 640x480 with 1 Axes>"
            ],
            "image/png": "[encoded data removed]"
          },
          "metadata": {}
        }
      ]
    },
    {
      "cell_type": "markdown",
      "source": [
        "#Exercise\n",
        "*   change the number of points to 20\n",
        "*   change the line to green triangles\n",
        "*   also plot the median (using red dots)"
      ],
      "metadata": {
        "id": "_lDNsnHGrhl6"
      }
    }
  ]
}