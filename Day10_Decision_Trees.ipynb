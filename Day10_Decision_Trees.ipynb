{
  "nbformat": 4,
  "nbformat_minor": 0,
  "metadata": {
    "colab": {
      "provenance": [],
      "authorship_tag": "ABX9TyNEj4xTP/ZI6e4TVFLu/D2n",
      "include_colab_link": true
    },
    "kernelspec": {
      "name": "python3",
      "display_name": "Python 3"
    },
    "language_info": {
      "name": "python"
    }
  },
  "cells": [
    {
      "cell_type": "markdown",
      "metadata": {
        "id": "view-in-github",
        "colab_type": "text"
      },
      "source": [
        "<a href=\"https://colab.research.google.com/github/urness/CS167Fall2025/blob/main/Day10_Decision_Trees.ipynb\" target=\"_parent\"><img src=\"https://colab.research.google.com/assets/colab-badge.svg\" alt=\"Open In Colab\"/></a>"
      ]
    },
    {
      "cell_type": "markdown",
      "source": [
        "# CS167: Day10\n",
        "##Decision Trees\n",
        "\n",
        "#### CS167: Machine Learning, Fall 2025\n"
      ],
      "metadata": {
        "id": "8TmDLmOfqmAF"
      }
    },
    {
      "cell_type": "code",
      "source": [
        "import pandas as pd\n",
        "import numpy as np\n",
        "\n",
        "# The first step is to mount your Google Drive to your Colab account.\n",
        "#You will be asked to authorize Colab to access your Google Drive. Follow the steps they lead you.\n",
        "\n",
        "from google.colab import drive\n",
        "drive.mount('/content/drive')"
      ],
      "metadata": {
        "id": "Nv96YoLBwemZ"
      },
      "execution_count": null,
      "outputs": []
    },
    {
      "cell_type": "code",
      "source": [
        "#import the data:\n",
        "#make sure the path on the line below corresponds to the path where you put your dataset.\n",
        "restaurant_df = pd.read_csv('/content/drive/MyDrive/CS167/datasets/restaurant.csv')\n",
        "restaurant_df.head()"
      ],
      "metadata": {
        "id": "0wCCrNCE_6G9"
      },
      "execution_count": null,
      "outputs": []
    },
    {
      "cell_type": "markdown",
      "source": [
        "## Code for Entropy:"
      ],
      "metadata": {
        "id": "Y3i-Vy1UYz3l"
      }
    },
    {
      "cell_type": "code",
      "source": [
        "import math\n",
        "# here's the syntax for a log(Base 2)\n",
        "for i in [.5,1,2,4,8,16,32,64]:\n",
        "    print(\"log base 2 of\", i, \"is\", math.log2(i))"
      ],
      "metadata": {
        "id": "AtwPWDV7Y2Dy"
      },
      "execution_count": null,
      "outputs": []
    },
    {
      "cell_type": "code",
      "source": [
        "import math\n",
        "def entropy(percentage_list):\n",
        "    #input: percentage_list consists of float values that sum to 1.0\n",
        "    #return: calculation of entropy for input percentages\n",
        "    result = 0\n",
        "    for percentage in percentage_list:\n",
        "        if percentage != 0:\n",
        "            result += -percentage*math.log2(percentage)\n",
        "    return result"
      ],
      "metadata": {
        "id": "5uFyglvzY4Od"
      },
      "execution_count": null,
      "outputs": []
    },
    {
      "cell_type": "code",
      "source": [
        "#example of a calculation of entropy\n",
        "entropy([2/6,4/6])"
      ],
      "metadata": {
        "id": "Fmb1QNZRY6Ki"
      },
      "execution_count": null,
      "outputs": []
    },
    {
      "cell_type": "code",
      "source": [
        "#calculate entropy\n",
        "entropy_patrons_full = entropy([4/6,2/6]) # 4/6 was No; 2/6 was Yes\n",
        "entropy_patrons_none = entropy([2/2,0/2])\n",
        "entropy_patrons_some = entropy([0/4,4/4])\n",
        "print(\"Entropy for <4/6, 2/6>: \", entropy_patrons_full)\n",
        "print(\"Entropy for <2/2, 0/2>: \", entropy_patrons_none)\n",
        "print(\"Entropy for <0/4, 4/4>: \", entropy_patrons_some)"
      ],
      "metadata": {
        "id": "1HElkxD5ZABr"
      },
      "execution_count": null,
      "outputs": []
    },
    {
      "cell_type": "code",
      "source": [
        "#note that the entropy for a 50-50 split is 1.0\n",
        "entropy([.5,.5])"
      ],
      "metadata": {
        "id": "Q8HNEmiScUwO"
      },
      "execution_count": null,
      "outputs": []
    },
    {
      "cell_type": "code",
      "source": [
        "restaurant_df[['est', 'target']].sort_values(['est','target'])"
      ],
      "metadata": {
        "id": "HHeO2Rs3c1qk"
      },
      "execution_count": null,
      "outputs": []
    },
    {
      "cell_type": "code",
      "source": [
        "# calculate expected_entropy (weighted average)\n",
        "expected_entropy_patrons = 6/12*entropy_patrons_full + 2/12*entropy_patrons_none + 4/12*entropy_patrons_some\n",
        "expected_entropy_patrons"
      ],
      "metadata": {
        "id": "Ph68UNjIZ1pd"
      },
      "execution_count": null,
      "outputs": []
    },
    {
      "cell_type": "code",
      "source": [
        "# True or False: The following code will give the expected entropy for the predictor 'est'\n",
        "expected_entr_est =   (6/12)*entropy([2/6, 4/6])+ (2/12)*entropy([1/2, 1/2]) +                    \\\n",
        "                      (2/12)*entropy([1/2, 1/2]) + (2/12)*entropy([2/2, 0/2])\n",
        "expected_entr_est"
      ],
      "metadata": {
        "id": "dpKrv15YbxS9"
      },
      "execution_count": null,
      "outputs": []
    },
    {
      "cell_type": "markdown",
      "source": [
        "# Calculating Information Gain for `Patrons`"
      ],
      "metadata": {
        "id": "a7MPLbf0iYvs"
      }
    },
    {
      "cell_type": "code",
      "source": [
        "restaurant_df[['pat', 'target']].sort_values(['pat','target'])"
      ],
      "metadata": {
        "id": "485scVTDifI3"
      },
      "execution_count": null,
      "outputs": []
    },
    {
      "cell_type": "code",
      "source": [
        "# Step 1: Calculating Entropy Prior\n",
        "entropy_prior = entropy([6/12, 6/12])\n",
        "entropy_prior"
      ],
      "metadata": {
        "id": "Cb2GkmG2hR_c"
      },
      "execution_count": null,
      "outputs": []
    },
    {
      "cell_type": "code",
      "source": [
        "# Step 2: Calculate Expected Entropy\n",
        "entropy_patrons_full = entropy([4/6,2/6]) # 4/6 was No; 2/6 was Yes\n",
        "entropy_patrons_none = entropy([2/2,0/2])\n",
        "entropy_patrons_some = entropy([0/4,4/4])\n",
        "expected_entropy_patrons = 6/12*entropy_patrons_full + 2/12*entropy_patrons_none + 4/12*entropy_patrons_some\n",
        "expected_entropy_patrons"
      ],
      "metadata": {
        "id": "jWdrNFHMlAKb"
      },
      "execution_count": null,
      "outputs": []
    },
    {
      "cell_type": "code",
      "source": [
        "# Step 3: Information Gain = prior entropy - expected entropy\n",
        "information_gain = entropy_prior - expected_entropy_patrons\n",
        "information_gain"
      ],
      "metadata": {
        "id": "hxkZmcZplMn1"
      },
      "execution_count": null,
      "outputs": []
    },
    {
      "cell_type": "markdown",
      "source": [
        "# Calculate Information Gain for `price`"
      ],
      "metadata": {
        "id": "UXSrY2QPmO0F"
      }
    },
    {
      "cell_type": "code",
      "source": [
        "restaurant_df[['price', 'target']].sort_values(['price','target'])"
      ],
      "metadata": {
        "id": "1yWE_PBQmULd"
      },
      "execution_count": null,
      "outputs": []
    }
  ]
}