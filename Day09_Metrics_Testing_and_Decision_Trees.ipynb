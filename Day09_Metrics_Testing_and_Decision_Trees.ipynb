{
  "nbformat": 4,
  "nbformat_minor": 0,
  "metadata": {
    "colab": {
      "provenance": [],
      "authorship_tag": "ABX9TyMDXqjQ1YSfgRLHFt2NvOX7",
      "include_colab_link": true
    },
    "kernelspec": {
      "name": "python3",
      "display_name": "Python 3"
    },
    "language_info": {
      "name": "python"
    }
  },
  "cells": [
    {
      "cell_type": "markdown",
      "metadata": {
        "id": "view-in-github",
        "colab_type": "text"
      },
      "source": [
        "<a href=\"https://colab.research.google.com/github/urness/CS167Fall2025/blob/main/Day09_Metrics_Testing_and_Decision_Trees.ipynb\" target=\"_parent\"><img src=\"https://colab.research.google.com/assets/colab-badge.svg\" alt=\"Open In Colab\"/></a>"
      ]
    },
    {
      "cell_type": "markdown",
      "source": [
        "# CS167: Day09\n",
        "##Metrics, Testing, and Decision Trees\n",
        "\n",
        "#### CS167: Machine Learning, Fall 2025\n"
      ],
      "metadata": {
        "id": "8TmDLmOfqmAF"
      }
    },
    {
      "cell_type": "markdown",
      "source": [
        "## Before we get started, let's load (and clean) the dataset:\n",
        "Make sure you change the path to match your Google Drive.\n"
      ],
      "metadata": {
        "id": "jiRjSmfA-9Tk"
      }
    },
    {
      "cell_type": "code",
      "source": [
        "import pandas as pd\n",
        "import numpy as np\n",
        "\n",
        "# The first step is to mount your Google Drive to your Colab account.\n",
        "#You will be asked to authorize Colab to access your Google Drive. Follow the steps they lead you.\n",
        "\n",
        "from google.colab import drive\n",
        "drive.mount('/content/drive')"
      ],
      "metadata": {
        "id": "Nv96YoLBwemZ"
      },
      "execution_count": null,
      "outputs": []
    },
    {
      "cell_type": "code",
      "source": [
        "#import the data:\n",
        "#make sure the path on the line below corresponds to the path where you put your dataset.\n",
        "vehicles_df = pd.read_csv('/content/drive/MyDrive/CS167/datasets/vehicles.csv')"
      ],
      "metadata": {
        "id": "0wCCrNCE_6G9"
      },
      "execution_count": null,
      "outputs": []
    },
    {
      "cell_type": "code",
      "source": [
        "# get only vehicles with \"Regular\" fuel type and columns ['comb08', 'year', 'cylinders', 'displ']\n",
        "regular_vehicles = vehicles_df[vehicles_df.fuelType ==\"Regular\"]\n",
        "regular_vehicles_subset = regular_vehicles[['comb08', 'year', 'cylinders', 'displ']]\n",
        "\n",
        "#clean the data; dropping all rows that contain null values\n",
        "regular_vehicles_cleaned = regular_vehicles_subset.dropna()\n",
        "regular_vehicles_cleaned.head()\n",
        "\n",
        "#let's work with only 1,000 rows\n",
        "regular_vehicles_cleaned = regular_vehicles_cleaned.head(1000)"
      ],
      "metadata": {
        "id": "za78QM3wD3DK"
      },
      "execution_count": null,
      "outputs": []
    },
    {
      "cell_type": "code",
      "source": [
        "#normalize the data\n",
        "\n",
        "#year\n",
        "yr_mean = regular_vehicles_cleaned['year'].mean()\n",
        "yr_std = regular_vehicles_cleaned['year'].std()\n",
        "\n",
        "#cylinders\n",
        "cy_mean = regular_vehicles_cleaned['cylinders'].mean()\n",
        "cy_std = regular_vehicles_cleaned['cylinders'].std()\n",
        "\n",
        "#displ\n",
        "dp_mean = regular_vehicles_cleaned['displ'].mean()\n",
        "dp_std = regular_vehicles_cleaned['displ'].std()\n",
        "\n",
        "#make a copy of the dataframe\n",
        "normalized_vehicle_df = regular_vehicles_cleaned.copy()\n",
        "\n",
        "#replace column with each entry's z-score\n",
        "normalized_vehicle_df['year'] = (normalized_vehicle_df['year'] - yr_mean)/yr_std\n",
        "normalized_vehicle_df['cylinders'] = (normalized_vehicle_df['cylinders'] - cy_mean)/cy_std\n",
        "normalized_vehicle_df['displ'] = (normalized_vehicle_df['displ'] - dp_mean)/dp_std"
      ],
      "metadata": {
        "id": "QssYBO0JFmO6"
      },
      "execution_count": null,
      "outputs": []
    },
    {
      "cell_type": "markdown",
      "source": [
        "\n",
        "\n",
        "---\n",
        "\n"
      ],
      "metadata": {
        "id": "2z9Fa7V-Kx50"
      }
    },
    {
      "cell_type": "markdown",
      "source": [
        "##1. What does the `mystery_function` do?\n",
        "\n",
        "\n",
        "\n"
      ],
      "metadata": {
        "id": "3U_sI5U6Deuf"
      }
    },
    {
      "cell_type": "code",
      "source": [
        "def mystery_function(y_true: pd.Series, y_pred: pd.Series) -> float:\n",
        "    \"\"\"\n",
        "    Calculate ???? between two pandas Series,\n",
        "    \"\"\"\n",
        "    total_error = 0.0\n",
        "    n = len(y_true)\n",
        "\n",
        "    for i in range(n):\n",
        "        total_error += abs(y_true.iloc[i] - y_pred.iloc[i])\n",
        "\n",
        "    return total_error / n"
      ],
      "metadata": {
        "id": "TwuDJcDlDnsX"
      },
      "execution_count": null,
      "outputs": []
    },
    {
      "cell_type": "code",
      "source": [
        "# Example data\n",
        "actual = pd.Series([3, -0.5, 2, 7])\n",
        "predicted = pd.Series([2.5, 0.0, 2, 8])\n",
        "\n",
        "result = mystery_function(actual, predicted)\n",
        "print(\"RESULT:\", result)"
      ],
      "metadata": {
        "id": "Mxgv_MIbGIQX"
      },
      "execution_count": null,
      "outputs": []
    },
    {
      "cell_type": "markdown",
      "source": [
        "Rename the `mystery_function` to be something that is more descriptive."
      ],
      "metadata": {
        "id": "4kZ5L5x-GTfk"
      }
    },
    {
      "cell_type": "markdown",
      "source": [
        "##2. Write a function `mean_squared_error `\n"
      ],
      "metadata": {
        "id": "Ccw3AtxYGmv7"
      }
    },
    {
      "cell_type": "code",
      "source": [
        "#def mean_squared_error(y_true: pd.Series, y_pred: pd.Series) -> float:"
      ],
      "metadata": {
        "id": "0A9ecYcyJis0"
      },
      "execution_count": null,
      "outputs": []
    },
    {
      "cell_type": "markdown",
      "source": [
        "##3. How can you test your code to make sure it's working correctly?\n",
        "\n",
        "**Run some test cases to show your work. Prove to yourself that your functions work as expected.**\n"
      ],
      "metadata": {
        "id": "rNMprrWVG2BJ"
      }
    },
    {
      "cell_type": "markdown",
      "source": [
        "##4. Implement cross validation -– create training and testing data.\n",
        "Use approximately the first 20% of the shuffled set as testing data.\n"
      ],
      "metadata": {
        "id": "diVJqqxuHDvI"
      }
    },
    {
      "cell_type": "markdown",
      "source": [
        "##5. Note the code supplied that will normalize the vehicle data set (nothing to do here)\n"
      ],
      "metadata": {
        "id": "kn_icg4qdf1f"
      }
    },
    {
      "cell_type": "markdown",
      "source": [
        "##(This is a big step)\n",
        "##6. Refer to the code from last week that will graph the various values of k for the kNN algorithm.\n",
        "\n",
        "**Note that you will have to adjust the knn algorithm to use a regression**\n",
        "\n",
        "**Determine the best value of k.**\n",
        "\n",
        "**Supply a graph to justify your conclusion.**\n"
      ],
      "metadata": {
        "id": "OtDtVp7CHz94"
      }
    }
  ]
}