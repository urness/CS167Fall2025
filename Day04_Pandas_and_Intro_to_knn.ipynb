{
  "nbformat": 4,
  "nbformat_minor": 0,
  "metadata": {
    "colab": {
      "provenance": [],
      "authorship_tag": "ABX9TyN4khv7oNtFtrgEhOhePzlI",
      "include_colab_link": true
    },
    "kernelspec": {
      "name": "python3",
      "display_name": "Python 3"
    },
    "language_info": {
      "name": "python"
    }
  },
  "cells": [
    {
      "cell_type": "markdown",
      "metadata": {
        "id": "view-in-github",
        "colab_type": "text"
      },
      "source": [
        "<a href=\"https://colab.research.google.com/github/urness/CS167Fall2025/blob/main/Day04_Pandas_and_Intro_to_knn.ipynb\" target=\"_parent\"><img src=\"https://colab.research.google.com/assets/colab-badge.svg\" alt=\"Open In Colab\"/></a>"
      ]
    },
    {
      "cell_type": "markdown",
      "source": [
        "# CS167: Day04\n",
        "##Pandas & Intro to kNN\n",
        "\n",
        "\n",
        "#### CS167: Machine Learning, Fall 2025\n"
      ],
      "metadata": {
        "id": "8TmDLmOfqmAF"
      }
    },
    {
      "cell_type": "markdown",
      "source": [
        "# Quick Definitions:\n",
        "\n",
        "Mean: average<br>\n",
        "Median: middle value when the numbers are arranged in order<br>\n",
        "Mode:  the most frequently occurring value"
      ],
      "metadata": {
        "id": "WnyLe00TTXGr"
      }
    },
    {
      "cell_type": "code",
      "source": [
        "import pandas as pd\n",
        "\n",
        "# Create a simple DataFrame\n",
        "data = {\n",
        "    'Scores': [70, 75, 85, 87, 92, 92, 95]\n",
        "}\n",
        "df = pd.DataFrame(data)\n",
        "\n",
        "# Mean\n",
        "mean_value = df['Scores'].mean()\n",
        "\n",
        "# Median\n",
        "median_value = df['Scores'].median()\n",
        "\n",
        "# Mode\n",
        "mode_value = df['Scores'].mode()"
      ],
      "metadata": {
        "id": "d1T1uQD5TVNa"
      },
      "execution_count": null,
      "outputs": []
    },
    {
      "cell_type": "code",
      "source": [
        "print(\"\\nMean:\", mean_value)\n",
        "print(\"Median:\", median_value)\n",
        "print(\"Mode:\", mode_value.to_list())"
      ],
      "metadata": {
        "id": "9NDURhWZTvDt"
      },
      "execution_count": null,
      "outputs": []
    },
    {
      "cell_type": "code",
      "source": [
        "import pandas as pd\n",
        "\n",
        "# The first step is to mount your Google Drive to your Colab account.\n",
        "#You will be asked to authorize Colab to access your Google Drive. Follow the steps they lead you.\n",
        "\n",
        "from google.colab import drive\n",
        "drive.mount('/content/drive')"
      ],
      "metadata": {
        "id": "Nv96YoLBwemZ"
      },
      "execution_count": null,
      "outputs": []
    },
    {
      "cell_type": "code",
      "source": [
        "# read in the penguin data --- YOUR PATH WILL BE DIFFERENT\n",
        "penguins_data = pd.read_csv('/content/drive/MyDrive/CS167/datasets/penguins.csv')\n",
        "penguins_data.head()\n"
      ],
      "metadata": {
        "id": "6K2jAeGG7r8a"
      },
      "execution_count": null,
      "outputs": []
    },
    {
      "cell_type": "markdown",
      "source": [
        "#Practice Questions"
      ],
      "metadata": {
        "id": "jFIQv2dF_asf"
      }
    },
    {
      "cell_type": "code",
      "source": [
        "# list the column names"
      ],
      "metadata": {
        "id": "75k1X2CW_t9A"
      },
      "execution_count": null,
      "outputs": []
    },
    {
      "cell_type": "code",
      "source": [
        "# how many rows are in the dataframe?"
      ],
      "metadata": {
        "id": "JctmdHH7_2ge"
      },
      "execution_count": null,
      "outputs": []
    },
    {
      "cell_type": "code",
      "source": [
        "# Look up the documentation for value_counts here:\n",
        "# https://pandas.pydata.org/docs/reference/api/pandas.Series.value_counts.html\n",
        "# Does it operate on a dataframe or a series?\n",
        "# use value_counts() to determine\n",
        "# which species of penguin has the most rows in this dataset?"
      ],
      "metadata": {
        "id": "DA-s2RnJw8DZ"
      },
      "execution_count": 67,
      "outputs": []
    },
    {
      "cell_type": "code",
      "source": [
        "# what is the average culmen length for each species of penguin."
      ],
      "metadata": {
        "id": "prDtuQ-o_gYV"
      },
      "execution_count": 68,
      "outputs": []
    },
    {
      "cell_type": "code",
      "source": [
        "# create a subset that consists of Adelie penguins from the island Biscoe\n",
        "# what is  the number of Adelie penguins from Biscoe?"
      ],
      "metadata": {
        "id": "4cBdga-tBY4P"
      },
      "execution_count": 69,
      "outputs": []
    },
    {
      "cell_type": "code",
      "source": [
        "# what is the percentage of female penguins in the dataset?"
      ],
      "metadata": {
        "id": "8xVXySJFB06r"
      },
      "execution_count": 70,
      "outputs": []
    },
    {
      "cell_type": "code",
      "source": [
        "# what is the average weight of male penguins?"
      ],
      "metadata": {
        "id": "60Z9GcppB5eY"
      },
      "execution_count": 71,
      "outputs": []
    },
    {
      "cell_type": "code",
      "source": [
        "# Bonus: come up with 2 of your own questions that you think you can answer with\n",
        "# the penguin dataset,  and use the tools you have to answer them."
      ],
      "metadata": {
        "id": "iykrgNbVCHV3"
      },
      "execution_count": 72,
      "outputs": []
    }
  ]
}