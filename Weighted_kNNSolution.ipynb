{
  "nbformat": 4,
  "nbformat_minor": 0,
  "metadata": {
    "colab": {
      "provenance": [],
      "authorship_tag": "ABX9TyPvaZ7LjBrbdpBY/zAUdVcP",
      "include_colab_link": true
    },
    "kernelspec": {
      "name": "python3",
      "display_name": "Python 3"
    },
    "language_info": {
      "name": "python"
    }
  },
  "cells": [
    {
      "cell_type": "markdown",
      "metadata": {
        "id": "view-in-github",
        "colab_type": "text"
      },
      "source": [
        "<a href=\"https://colab.research.google.com/github/urness/CS167Fall2025/blob/main/Weighted_kNNSolution.ipynb\" target=\"_parent\"><img src=\"https://colab.research.google.com/assets/colab-badge.svg\" alt=\"Open In Colab\"/></a>"
      ]
    },
    {
      "cell_type": "markdown",
      "source": [
        "# CS167: Day07\n",
        "##Weighted kNN Solution\n",
        "\n",
        "#### CS167: Machine Learning, Fall 2025\n"
      ],
      "metadata": {
        "id": "8TmDLmOfqmAF"
      }
    },
    {
      "cell_type": "markdown",
      "source": [
        "## Before we get started, let's load in our datasets:\n",
        "Make sure you change the path to match your Google Drive.\n"
      ],
      "metadata": {
        "id": "jiRjSmfA-9Tk"
      }
    },
    {
      "cell_type": "code",
      "source": [
        "import pandas as pd\n",
        "import numpy as np\n",
        "\n",
        "# The first step is to mount your Google Drive to your Colab account.\n",
        "#You will be asked to authorize Colab to access your Google Drive. Follow the steps they lead you.\n",
        "\n",
        "from google.colab import drive\n",
        "drive.mount('/content/drive')"
      ],
      "metadata": {
        "id": "Nv96YoLBwemZ",
        "colab": {
          "base_uri": "https://localhost:8080/"
        },
        "outputId": "c9969d64-e271-42ac-9c34-aeb004b780a7"
      },
      "execution_count": 1,
      "outputs": [
        {
          "output_type": "stream",
          "name": "stdout",
          "text": [
            "Mounted at /content/drive\n"
          ]
        }
      ]
    },
    {
      "cell_type": "code",
      "source": [
        "#import the data:\n",
        "#make sure the path on the line below corresponds to the path where you put your dataset.\n",
        "iris_df = pd.read_csv('/content/drive/MyDrive/CS167/datasets/irisData.csv')"
      ],
      "metadata": {
        "id": "0wCCrNCE_6G9"
      },
      "execution_count": 2,
      "outputs": []
    },
    {
      "cell_type": "markdown",
      "source": [
        "#Normalize each of the predictor columns in the iris dataset."
      ],
      "metadata": {
        "id": "sjjvH-A9bAoJ"
      }
    },
    {
      "cell_type": "code",
      "source": [
        "#petal_length\n",
        "pl_mean = iris_df['petal length'].mean()\n",
        "pl_std = iris_df['petal length'].std()\n",
        "\n",
        "#petal_width\n",
        "pw_mean = iris_df['petal width'].mean()\n",
        "pw_std = iris_df['petal width'].std()\n",
        "\n",
        "#sepal_length\n",
        "sl_mean = iris_df['sepal length'].mean()\n",
        "sl_std = iris_df['sepal length'].std()\n",
        "\n",
        "#sepal_width\n",
        "sw_mean = iris_df['sepal width'].mean()\n",
        "sw_std = iris_df['sepal width'].std()\n",
        "\n",
        "#make a copy of the original dataframe\n",
        "normalized_iris_df = iris_df.copy()\n",
        "\n",
        "#replace column with each entry's z-score\n",
        "normalized_iris_df['petal length'] = (normalized_iris_df['petal length'] - pl_mean)/pl_std\n",
        "normalized_iris_df['petal width'] = (normalized_iris_df['petal width'] - pw_mean)/pw_std\n",
        "normalized_iris_df['sepal length'] = (normalized_iris_df['sepal length'] - sl_mean)/sl_std\n",
        "normalized_iris_df['sepal width'] = (normalized_iris_df['sepal width'] - sw_mean)/sw_std\n",
        "normalized_iris_df.head()"
      ],
      "metadata": {
        "colab": {
          "base_uri": "https://localhost:8080/",
          "height": 206
        },
        "id": "plZuE6fOeIOl",
        "outputId": "96037db4-1169-45fb-ae6a-c1c7cd06ff2a"
      },
      "execution_count": 3,
      "outputs": [
        {
          "output_type": "execute_result",
          "data": {
            "text/plain": [
              "   sepal length  sepal width  petal length  petal width      species\n",
              "0     -0.897674     1.028611     -1.336794    -1.308593  Iris-setosa\n",
              "1     -1.139200    -0.124540     -1.336794    -1.308593  Iris-setosa\n",
              "2     -1.380727     0.336720     -1.393470    -1.308593  Iris-setosa\n",
              "3     -1.501490     0.106090     -1.280118    -1.308593  Iris-setosa\n",
              "4     -1.018437     1.259242     -1.336794    -1.308593  Iris-setosa"
            ],
            "text/html": [
              "\n",
              "  <div id=\"df-495d9dca-7998-4435-aab4-d641e4376215\" class=\"colab-df-container\">\n",
              "    <div>\n",
              "<style scoped>\n",
              "    .dataframe tbody tr th:only-of-type {\n",
              "        vertical-align: middle;\n",
              "    }\n",
              "\n",
              "    .dataframe tbody tr th {\n",
              "        vertical-align: top;\n",
              "    }\n",
              "\n",
              "    .dataframe thead th {\n",
              "        text-align: right;\n",
              "    }\n",
              "</style>\n",
              "<table border=\"1\" class=\"dataframe\">\n",
              "  <thead>\n",
              "    <tr style=\"text-align: right;\">\n",
              "      <th></th>\n",
              "      <th>sepal length</th>\n",
              "      <th>sepal width</th>\n",
              "      <th>petal length</th>\n",
              "      <th>petal width</th>\n",
              "      <th>species</th>\n",
              "    </tr>\n",
              "  </thead>\n",
              "  <tbody>\n",
              "    <tr>\n",
              "      <th>0</th>\n",
              "      <td>-0.897674</td>\n",
              "      <td>1.028611</td>\n",
              "      <td>-1.336794</td>\n",
              "      <td>-1.308593</td>\n",
              "      <td>Iris-setosa</td>\n",
              "    </tr>\n",
              "    <tr>\n",
              "      <th>1</th>\n",
              "      <td>-1.139200</td>\n",
              "      <td>-0.124540</td>\n",
              "      <td>-1.336794</td>\n",
              "      <td>-1.308593</td>\n",
              "      <td>Iris-setosa</td>\n",
              "    </tr>\n",
              "    <tr>\n",
              "      <th>2</th>\n",
              "      <td>-1.380727</td>\n",
              "      <td>0.336720</td>\n",
              "      <td>-1.393470</td>\n",
              "      <td>-1.308593</td>\n",
              "      <td>Iris-setosa</td>\n",
              "    </tr>\n",
              "    <tr>\n",
              "      <th>3</th>\n",
              "      <td>-1.501490</td>\n",
              "      <td>0.106090</td>\n",
              "      <td>-1.280118</td>\n",
              "      <td>-1.308593</td>\n",
              "      <td>Iris-setosa</td>\n",
              "    </tr>\n",
              "    <tr>\n",
              "      <th>4</th>\n",
              "      <td>-1.018437</td>\n",
              "      <td>1.259242</td>\n",
              "      <td>-1.336794</td>\n",
              "      <td>-1.308593</td>\n",
              "      <td>Iris-setosa</td>\n",
              "    </tr>\n",
              "  </tbody>\n",
              "</table>\n",
              "</div>\n",
              "    <div class=\"colab-df-buttons\">\n",
              "\n",
              "  <div class=\"colab-df-container\">\n",
              "    <button class=\"colab-df-convert\" onclick=\"convertToInteractive('df-495d9dca-7998-4435-aab4-d641e4376215')\"\n",
              "            title=\"Convert this dataframe to an interactive table.\"\n",
              "            style=\"display:none;\">\n",
              "\n",
              "  <svg xmlns=\"http://www.w3.org/2000/svg\" height=\"24px\" viewBox=\"0 -960 960 960\">\n",
              "    <path d=\"M120-120v-720h720v720H120Zm60-500h600v-160H180v160Zm220 220h160v-160H400v160Zm0 220h160v-160H400v160ZM180-400h160v-160H180v160Zm440 0h160v-160H620v160ZM180-180h160v-160H180v160Zm440 0h160v-160H620v160Z\"/>\n",
              "  </svg>\n",
              "    </button>\n",
              "\n",
              "  <style>\n",
              "    .colab-df-container {\n",
              "      display:flex;\n",
              "      gap: 12px;\n",
              "    }\n",
              "\n",
              "    .colab-df-convert {\n",
              "      background-color: #E8F0FE;\n",
              "      border: none;\n",
              "      border-radius: 50%;\n",
              "      cursor: pointer;\n",
              "      display: none;\n",
              "      fill: #1967D2;\n",
              "      height: 32px;\n",
              "      padding: 0 0 0 0;\n",
              "      width: 32px;\n",
              "    }\n",
              "\n",
              "    .colab-df-convert:hover {\n",
              "      background-color: #E2EBFA;\n",
              "      box-shadow: 0px 1px 2px rgba(60, 64, 67, 0.3), 0px 1px 3px 1px rgba(60, 64, 67, 0.15);\n",
              "      fill: #174EA6;\n",
              "    }\n",
              "\n",
              "    .colab-df-buttons div {\n",
              "      margin-bottom: 4px;\n",
              "    }\n",
              "\n",
              "    [theme=dark] .colab-df-convert {\n",
              "      background-color: #3B4455;\n",
              "      fill: #D2E3FC;\n",
              "    }\n",
              "\n",
              "    [theme=dark] .colab-df-convert:hover {\n",
              "      background-color: #434B5C;\n",
              "      box-shadow: 0px 1px 3px 1px rgba(0, 0, 0, 0.15);\n",
              "      filter: drop-shadow(0px 1px 2px rgba(0, 0, 0, 0.3));\n",
              "      fill: #FFFFFF;\n",
              "    }\n",
              "  </style>\n",
              "\n",
              "    <script>\n",
              "      const buttonEl =\n",
              "        document.querySelector('#df-495d9dca-7998-4435-aab4-d641e4376215 button.colab-df-convert');\n",
              "      buttonEl.style.display =\n",
              "        google.colab.kernel.accessAllowed ? 'block' : 'none';\n",
              "\n",
              "      async function convertToInteractive(key) {\n",
              "        const element = document.querySelector('#df-495d9dca-7998-4435-aab4-d641e4376215');\n",
              "        const dataTable =\n",
              "          await google.colab.kernel.invokeFunction('convertToInteractive',\n",
              "                                                    [key], {});\n",
              "        if (!dataTable) return;\n",
              "\n",
              "        const docLinkHtml = 'Like what you see? Visit the ' +\n",
              "          '<a target=\"_blank\" href=https://colab.research.google.com/notebooks/data_table.ipynb>data table notebook</a>'\n",
              "          + ' to learn more about interactive tables.';\n",
              "        element.innerHTML = '';\n",
              "        dataTable['output_type'] = 'display_data';\n",
              "        await google.colab.output.renderOutput(dataTable, element);\n",
              "        const docLink = document.createElement('div');\n",
              "        docLink.innerHTML = docLinkHtml;\n",
              "        element.appendChild(docLink);\n",
              "      }\n",
              "    </script>\n",
              "  </div>\n",
              "\n",
              "\n",
              "    <div id=\"df-96946e8c-4688-4d8a-b97d-8a8d521b2011\">\n",
              "      <button class=\"colab-df-quickchart\" onclick=\"quickchart('df-96946e8c-4688-4d8a-b97d-8a8d521b2011')\"\n",
              "                title=\"Suggest charts\"\n",
              "                style=\"display:none;\">\n",
              "\n",
              "<svg xmlns=\"http://www.w3.org/2000/svg\" height=\"24px\"viewBox=\"0 0 24 24\"\n",
              "     width=\"24px\">\n",
              "    <g>\n",
              "        <path d=\"M19 3H5c-1.1 0-2 .9-2 2v14c0 1.1.9 2 2 2h14c1.1 0 2-.9 2-2V5c0-1.1-.9-2-2-2zM9 17H7v-7h2v7zm4 0h-2V7h2v10zm4 0h-2v-4h2v4z\"/>\n",
              "    </g>\n",
              "</svg>\n",
              "      </button>\n",
              "\n",
              "<style>\n",
              "  .colab-df-quickchart {\n",
              "      --bg-color: #E8F0FE;\n",
              "      --fill-color: #1967D2;\n",
              "      --hover-bg-color: #E2EBFA;\n",
              "      --hover-fill-color: #174EA6;\n",
              "      --disabled-fill-color: #AAA;\n",
              "      --disabled-bg-color: #DDD;\n",
              "  }\n",
              "\n",
              "  [theme=dark] .colab-df-quickchart {\n",
              "      --bg-color: #3B4455;\n",
              "      --fill-color: #D2E3FC;\n",
              "      --hover-bg-color: #434B5C;\n",
              "      --hover-fill-color: #FFFFFF;\n",
              "      --disabled-bg-color: #3B4455;\n",
              "      --disabled-fill-color: #666;\n",
              "  }\n",
              "\n",
              "  .colab-df-quickchart {\n",
              "    background-color: var(--bg-color);\n",
              "    border: none;\n",
              "    border-radius: 50%;\n",
              "    cursor: pointer;\n",
              "    display: none;\n",
              "    fill: var(--fill-color);\n",
              "    height: 32px;\n",
              "    padding: 0;\n",
              "    width: 32px;\n",
              "  }\n",
              "\n",
              "  .colab-df-quickchart:hover {\n",
              "    background-color: var(--hover-bg-color);\n",
              "    box-shadow: 0 1px 2px rgba(60, 64, 67, 0.3), 0 1px 3px 1px rgba(60, 64, 67, 0.15);\n",
              "    fill: var(--button-hover-fill-color);\n",
              "  }\n",
              "\n",
              "  .colab-df-quickchart-complete:disabled,\n",
              "  .colab-df-quickchart-complete:disabled:hover {\n",
              "    background-color: var(--disabled-bg-color);\n",
              "    fill: var(--disabled-fill-color);\n",
              "    box-shadow: none;\n",
              "  }\n",
              "\n",
              "  .colab-df-spinner {\n",
              "    border: 2px solid var(--fill-color);\n",
              "    border-color: transparent;\n",
              "    border-bottom-color: var(--fill-color);\n",
              "    animation:\n",
              "      spin 1s steps(1) infinite;\n",
              "  }\n",
              "\n",
              "  @keyframes spin {\n",
              "    0% {\n",
              "      border-color: transparent;\n",
              "      border-bottom-color: var(--fill-color);\n",
              "      border-left-color: var(--fill-color);\n",
              "    }\n",
              "    20% {\n",
              "      border-color: transparent;\n",
              "      border-left-color: var(--fill-color);\n",
              "      border-top-color: var(--fill-color);\n",
              "    }\n",
              "    30% {\n",
              "      border-color: transparent;\n",
              "      border-left-color: var(--fill-color);\n",
              "      border-top-color: var(--fill-color);\n",
              "      border-right-color: var(--fill-color);\n",
              "    }\n",
              "    40% {\n",
              "      border-color: transparent;\n",
              "      border-right-color: var(--fill-color);\n",
              "      border-top-color: var(--fill-color);\n",
              "    }\n",
              "    60% {\n",
              "      border-color: transparent;\n",
              "      border-right-color: var(--fill-color);\n",
              "    }\n",
              "    80% {\n",
              "      border-color: transparent;\n",
              "      border-right-color: var(--fill-color);\n",
              "      border-bottom-color: var(--fill-color);\n",
              "    }\n",
              "    90% {\n",
              "      border-color: transparent;\n",
              "      border-bottom-color: var(--fill-color);\n",
              "    }\n",
              "  }\n",
              "</style>\n",
              "\n",
              "      <script>\n",
              "        async function quickchart(key) {\n",
              "          const quickchartButtonEl =\n",
              "            document.querySelector('#' + key + ' button');\n",
              "          quickchartButtonEl.disabled = true;  // To prevent multiple clicks.\n",
              "          quickchartButtonEl.classList.add('colab-df-spinner');\n",
              "          try {\n",
              "            const charts = await google.colab.kernel.invokeFunction(\n",
              "                'suggestCharts', [key], {});\n",
              "          } catch (error) {\n",
              "            console.error('Error during call to suggestCharts:', error);\n",
              "          }\n",
              "          quickchartButtonEl.classList.remove('colab-df-spinner');\n",
              "          quickchartButtonEl.classList.add('colab-df-quickchart-complete');\n",
              "        }\n",
              "        (() => {\n",
              "          let quickchartButtonEl =\n",
              "            document.querySelector('#df-96946e8c-4688-4d8a-b97d-8a8d521b2011 button');\n",
              "          quickchartButtonEl.style.display =\n",
              "            google.colab.kernel.accessAllowed ? 'block' : 'none';\n",
              "        })();\n",
              "      </script>\n",
              "    </div>\n",
              "\n",
              "    </div>\n",
              "  </div>\n"
            ],
            "application/vnd.google.colaboratory.intrinsic+json": {
              "type": "dataframe",
              "variable_name": "normalized_iris_df",
              "summary": "{\n  \"name\": \"normalized_iris_df\",\n  \"rows\": 150,\n  \"fields\": [\n    {\n      \"column\": \"sepal length\",\n      \"properties\": {\n        \"dtype\": \"number\",\n        \"std\": 1.0000000000000004,\n        \"min\": -1.8637802962695178,\n        \"max\": 2.483698580557866,\n        \"num_unique_values\": 35,\n        \"samples\": [\n          0.43072244427826833,\n          -1.6222536920013297,\n          -0.29385736852629624\n        ],\n        \"semantic_type\": \"\",\n        \"description\": \"\"\n      }\n    },\n    {\n      \"column\": \"sepal width\",\n      \"properties\": {\n        \"dtype\": \"number\",\n        \"std\": 0.9999999999999994,\n        \"min\": -2.430843699698847,\n        \"max\": 3.104284269254884,\n        \"num_unique_values\": 23,\n        \"samples\": [\n          -1.7389527035796315,\n          2.1817629410959283,\n          1.0286112808972343\n        ],\n        \"semantic_type\": \"\",\n        \"description\": \"\"\n      }\n    },\n    {\n      \"column\": \"petal length\",\n      \"properties\": {\n        \"dtype\": \"number\",\n        \"std\": 1.0000000000000002,\n        \"min\": -1.5634973589465173,\n        \"max\": 1.7803768862629272,\n        \"num_unique_values\": 43,\n        \"samples\": [\n          1.6670252169337934,\n          0.02342601166135449,\n          -0.033249823003212164\n        ],\n        \"semantic_type\": \"\",\n        \"description\": \"\"\n      }\n    },\n    {\n      \"column\": \"petal width\",\n      \"properties\": {\n        \"dtype\": \"number\",\n        \"std\": 0.9999999999999994,\n        \"min\": -1.4396268133736674,\n        \"max\": 1.7051890410833728,\n        \"num_unique_values\": 22,\n        \"samples\": [\n          -1.3085928194379575,\n          0.0017471199191426076,\n          0.13278111385485272\n        ],\n        \"semantic_type\": \"\",\n        \"description\": \"\"\n      }\n    },\n    {\n      \"column\": \"species\",\n      \"properties\": {\n        \"dtype\": \"category\",\n        \"num_unique_values\": 3,\n        \"samples\": [\n          \"Iris-setosa\",\n          \"Iris-versicolor\",\n          \"Iris-virginica\"\n        ],\n        \"semantic_type\": \"\",\n        \"description\": \"\"\n      }\n    }\n  ]\n}"
            }
          },
          "metadata": {},
          "execution_count": 3
        }
      ]
    },
    {
      "cell_type": "code",
      "source": [
        "def kNN(specimen, data, k):\n",
        "    # 1. calculate distances\n",
        "    data['distance_to_new'] = np.sqrt(\n",
        "     (specimen['petal length'] - data['petal length'])**2\n",
        "    +(specimen['sepal length'] - data['sepal length'])**2\n",
        "    +(specimen['petal width'] - data['petal width'])**2\n",
        "    +(specimen['sepal width'] - data['sepal width'])**2)\n",
        "\n",
        "    # 2. sort\n",
        "    sorted_data = data.sort_values(['distance_to_new'])\n",
        "\n",
        "    # 3. predict\n",
        "    prediction = sorted_data.iloc[0:k]['species'].mode()[0]\n",
        "\n",
        "    return prediction"
      ],
      "metadata": {
        "id": "p3Sn-Zbld8Wm"
      },
      "execution_count": 4,
      "outputs": []
    },
    {
      "cell_type": "code",
      "source": [
        "def weighted_kNN(specimen, data, k):\n",
        "\n",
        "    # step 1. calculate the distances from 'specimen' to all other samples in 'data'\n",
        "    data['distance_to_new'] = np.sqrt(\n",
        "    (specimen['petal length'] - data['petal length'])**2\n",
        "    +(specimen['sepal length'] - data['sepal length'])**2\n",
        "    +(specimen['petal width'] - data['petal width'])**2\n",
        "    +(specimen['sepal width'] - data['sepal width'])**2)\n",
        "\n",
        "    # step 2 calcuate the weights (remember, weights are 1/d^2)\n",
        "    data['weights'] = 1/(data['distance_to_new']**2)\n",
        "\n",
        "    # step 3. find the k closest neighbors as follows\n",
        "    # first, sort the data and take the first k samples as neighbors\n",
        "    sorted_data = data.sort_values(['distance_to_new'])\n",
        "    neighbors = sorted_data.iloc[0:k]\n",
        "\n",
        "    # second, use groupby to sum the weights of each species in the closest k\n",
        "    results = neighbors.groupby('species')['weights'].sum()\n",
        "    sorted_results = results.sort_values(ascending=False)\n",
        "    # step 4. return the class that has the largest sum of weight.\n",
        "    return sorted_results.index[0]"
      ],
      "metadata": {
        "id": "c_rvAsI0gqWd"
      },
      "execution_count": 5,
      "outputs": []
    },
    {
      "cell_type": "code",
      "source": [
        "#classify this iris\n",
        "new_iris = {}\n",
        "new_iris['petal length'] = 5.1\n",
        "new_iris['sepal length'] = 7.2\n",
        "new_iris['petal width'] = 1.5\n",
        "new_iris['sepal width'] = 2.5\n",
        "\n",
        "# original data\n",
        "print(\"ORIGINAL DATA:\", kNN(new_iris, iris_df, 10))\n",
        "\n",
        "#normalize the new iris\n",
        "normalized_new_iris = {}\n",
        "normalized_new_iris['petal length'] = (5.1 - pl_mean)/pl_std\n",
        "normalized_new_iris['sepal length'] = (7.2 - sl_mean)/sl_std\n",
        "normalized_new_iris['petal width'] = (1.5 - pw_mean)/pw_std\n",
        "normalized_new_iris['sepal width'] = (2.5 - sw_mean)/sw_std\n",
        "\n",
        "# normalized data\n",
        "print(\"NORMALIZED DATA:\", kNN(normalized_new_iris, normalized_iris_df, 10))"
      ],
      "metadata": {
        "colab": {
          "base_uri": "https://localhost:8080/"
        },
        "id": "0VJjF9yggFFw",
        "outputId": "f165c67f-cff9-4b9f-dff1-a31171aec6c7"
      },
      "execution_count": 6,
      "outputs": [
        {
          "output_type": "stream",
          "name": "stdout",
          "text": [
            "ORIGINAL DATA: Iris-versicolor\n",
            "NORMALIZED DATA: Iris-virginica\n"
          ]
        }
      ]
    },
    {
      "cell_type": "code",
      "source": [
        "# unweighted knn not normalized; k=3\n",
        "print(kNN(new_iris, iris_df,3))"
      ],
      "metadata": {
        "colab": {
          "base_uri": "https://localhost:8080/"
        },
        "id": "KhDQl_RhHm-M",
        "outputId": "6aac4690-7998-4c3a-9516-4bc778eae7e3"
      },
      "execution_count": 16,
      "outputs": [
        {
          "output_type": "stream",
          "name": "stdout",
          "text": [
            "Iris-versicolor\n"
          ]
        }
      ]
    },
    {
      "cell_type": "code",
      "source": [
        "# unweighted knn normalized; k=3\n",
        "print(kNN(normalized_new_iris, normalized_iris_df,3))"
      ],
      "metadata": {
        "colab": {
          "base_uri": "https://localhost:8080/"
        },
        "id": "WhNRa77kH9Yx",
        "outputId": "2c6084a2-2a34-41c4-b9af-1779194e1ff5"
      },
      "execution_count": 17,
      "outputs": [
        {
          "output_type": "stream",
          "name": "stdout",
          "text": [
            "Iris-virginica\n"
          ]
        }
      ]
    },
    {
      "cell_type": "code",
      "source": [
        "# weighted knn not normalized; k=3\n",
        "print(weighted_kNN(new_iris, iris_df,3))"
      ],
      "metadata": {
        "colab": {
          "base_uri": "https://localhost:8080/"
        },
        "id": "3mnOaTecILA4",
        "outputId": "48eca5d7-f32b-4ed8-85b0-9b6511f262bb"
      },
      "execution_count": 18,
      "outputs": [
        {
          "output_type": "stream",
          "name": "stdout",
          "text": [
            "Iris-versicolor\n"
          ]
        }
      ]
    },
    {
      "cell_type": "code",
      "source": [
        "# weighted knn normalized; k=3\n",
        "print(weighted_kNN(normalized_new_iris, normalized_iris_df,3))"
      ],
      "metadata": {
        "colab": {
          "base_uri": "https://localhost:8080/"
        },
        "id": "c9tXpgReIesa",
        "outputId": "4ccdb69e-447e-49a6-9248-839fba96089b"
      },
      "execution_count": 21,
      "outputs": [
        {
          "output_type": "stream",
          "name": "stdout",
          "text": [
            "Iris-virginica\n"
          ]
        }
      ]
    }
  ]
}