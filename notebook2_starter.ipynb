{
  "nbformat": 4,
  "nbformat_minor": 0,
  "metadata": {
    "colab": {
      "provenance": [],
      "include_colab_link": true
    },
    "kernelspec": {
      "name": "python3",
      "display_name": "Python 3"
    },
    "language_info": {
      "name": "python"
    }
  },
  "cells": [
    {
      "cell_type": "markdown",
      "metadata": {
        "id": "view-in-github",
        "colab_type": "text"
      },
      "source": [
        "<a href=\"https://colab.research.google.com/github/urness/CS167Fall2025/blob/main/notebook2_starter.ipynb\" target=\"_parent\"><img src=\"https://colab.research.google.com/assets/colab-badge.svg\" alt=\"Open In Colab\"/></a>"
      ]
    },
    {
      "cell_type": "markdown",
      "metadata": {
        "id": "WVTcvFjCY4jo"
      },
      "source": [
        "# Notebook \\#2\n",
        "\n",
        "\n",
        "\n",
        "## Load in the data:\n",
        "You'll notice that there are a lot of columns here. We're going to work with a subset of these columns, not the entire dataset."
      ]
    },
    {
      "cell_type": "code",
      "metadata": {
        "id": "b49CLo7pXyXm"
      },
      "source": [
        "import pandas as pd\n",
        "import numpy as np\n",
        "from google.colab import drive\n",
        "drive.mount('/content/drive')"
      ],
      "execution_count": null,
      "outputs": []
    },
    {
      "cell_type": "code",
      "source": [
        "#import the data:\n",
        "#make sure the path on the line below corresponds to the path where you put your dataset.\n",
        "\n",
        "vehicle_data = pd.read_csv('/content/drive/MyDrive/CS167/datasets/vehicles.csv')\n",
        "pandas.set_option('display.max_columns', 100)\n",
        "vehicle_data.head()"
      ],
      "metadata": {
        "id": "e_Zf7C-X7u8T"
      },
      "execution_count": null,
      "outputs": []
    },
    {
      "cell_type": "markdown",
      "metadata": {
        "id": "f6G-SCz_aRDe"
      },
      "source": [
        "## Exercise #1:\n",
        "**Work with the right subset**: You're not going to work with the whole data set:\n",
        "- for __rows__, we are only using rows in which `\"Regular\"` is  listed in the `\"fuelType\"` column.\n",
        "- for __columns__, we are only using `displ`, `cylinders`, `year`, and `comb08`.\n",
        "\n",
        "So, to start, make a subset of the original data."
      ]
    },
    {
      "cell_type": "code",
      "metadata": {
        "id": "aLLIfIRUZFLr"
      },
      "source": [
        "# your code here:\n"
      ],
      "execution_count": null,
      "outputs": []
    },
    {
      "cell_type": "markdown",
      "metadata": {
        "id": "N2jEb7miajAj"
      },
      "source": [
        "## Exercise #2:\n",
        "**Check for null values**: If you have a null target value, you will need to throw that example out.\n",
        "\n",
        "If you have a null predictor value, you can either fill them in with something (like the mean/median) or you can drop those rows from the data set. Useful functions here are `isna()`, `any()`, `fillna()`, `value_counts()` and `dropna()`. If you're not sure what these do, look them up in the [pandas documentation](https://pandas.pydata.org/docs/).\n",
        "\n",
        "If you've tried the functions above, but your data still has missing values, you probably need to do one of the following thigns:\n",
        "-  Assign the results of the above functions to a variable, `clean_data = original_data.dropna()`,\n",
        "- use the `inplace=True` parameter when you call the above functions.\n",
        "\n",
        "Describe in a markup cell what you decided to do with the null data and why."
      ]
    },
    {
      "cell_type": "code",
      "metadata": {
        "id": "7Gdp7s4rbCb3"
      },
      "source": [
        "# remove missing data here\n",
        "\n"
      ],
      "execution_count": null,
      "outputs": []
    },
    {
      "cell_type": "markdown",
      "metadata": {
        "id": "qzo5ZFxybi5o"
      },
      "source": [
        "### Describe what you did:\n"
      ]
    },
    {
      "cell_type": "markdown",
      "metadata": {
        "id": "Jrgk6sPJboIg"
      },
      "source": [
        "## Exercise #3:\n",
        "Write up a k-nearest-neighbors function like the one you made for the iris data set in class. It should be able to make mpg (\"comb08\") predictions for new cars based on the year, cylinders, and displacement. You should also be able to specify what you want to use as k.\n",
        "\n",
        "Pay special attention to whether this problem is a classification or a regression, and how the answer to that question may change the output of your model."
      ]
    },
    {
      "cell_type": "code",
      "metadata": {
        "id": "oi5Q3-9SblvZ"
      },
      "source": [
        "# Build your function here\n"
      ],
      "execution_count": null,
      "outputs": []
    },
    {
      "cell_type": "markdown",
      "metadata": {
        "id": "XGAIV1D0b4mI"
      },
      "source": [
        "## Exercise #4:\n",
        "Demonstrate that your function works by making up some new values for hypothetical cars and using your function to display the predicted mpg (\"comb08\") for that car."
      ]
    },
    {
      "cell_type": "code",
      "metadata": {
        "id": "51TOP3akb_T8"
      },
      "source": [
        "# demonstrate that your function works here\n"
      ],
      "execution_count": null,
      "outputs": []
    },
    {
      "cell_type": "markdown",
      "metadata": {
        "id": "o_1V4-VRcC5V"
      },
      "source": [
        "## Exercise #5\n",
        "Make a copy of the data and normalize the training data using Z-score-- `copy()` will be useful here. Predict the mpg of a particular car using your k-nearest-neighbors function with both the normalized and non-normalized training data. Compare your results. Use a markup cell to describe and explain the differences in a few sentences."
      ]
    },
    {
      "cell_type": "code",
      "metadata": {
        "id": "2C4Mmg2TcKKx"
      },
      "source": [
        "# normalize a copy of the data\n"
      ],
      "execution_count": null,
      "outputs": []
    },
    {
      "cell_type": "markdown",
      "source": [
        "## Exercise #6\n",
        "Do something original with the data. Ask a question. Get an answer. Explain your thinking and your results."
      ],
      "metadata": {
        "id": "gWMRnEV178qk"
      }
    }
  ]
}