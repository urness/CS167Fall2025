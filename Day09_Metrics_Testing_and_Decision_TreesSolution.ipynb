{
  "nbformat": 4,
  "nbformat_minor": 0,
  "metadata": {
    "colab": {
      "provenance": [],
      "authorship_tag": "ABX9TyPQEi9zLVYoCjr9iUMrI+vG",
      "include_colab_link": true
    },
    "kernelspec": {
      "name": "python3",
      "display_name": "Python 3"
    },
    "language_info": {
      "name": "python"
    }
  },
  "cells": [
    {
      "cell_type": "markdown",
      "metadata": {
        "id": "view-in-github",
        "colab_type": "text"
      },
      "source": [
        "<a href=\"https://colab.research.google.com/github/urness/CS167Fall2025/blob/main/Day09_Metrics_Testing_and_Decision_TreesSolution.ipynb\" target=\"_parent\"><img src=\"https://colab.research.google.com/assets/colab-badge.svg\" alt=\"Open In Colab\"/></a>"
      ]
    },
    {
      "cell_type": "markdown",
      "source": [
        "# CS167: Day09\n",
        "##Metrics, Testing, and Decision Trees\n",
        "\n",
        "#### CS167: Machine Learning, Fall 2025\n"
      ],
      "metadata": {
        "id": "8TmDLmOfqmAF"
      }
    },
    {
      "cell_type": "markdown",
      "source": [
        "## Before we get started, let's load (and clean) the dataset:\n",
        "Make sure you change the path to match your Google Drive.\n"
      ],
      "metadata": {
        "id": "jiRjSmfA-9Tk"
      }
    },
    {
      "cell_type": "code",
      "source": [
        "import pandas as pd\n",
        "import numpy as np\n",
        "\n",
        "# The first step is to mount your Google Drive to your Colab account.\n",
        "#You will be asked to authorize Colab to access your Google Drive. Follow the steps they lead you.\n",
        "\n",
        "from google.colab import drive\n",
        "drive.mount('/content/drive')"
      ],
      "metadata": {
        "id": "Nv96YoLBwemZ",
        "colab": {
          "base_uri": "https://localhost:8080/"
        },
        "outputId": "5e4fa84b-2da8-4f2b-a60b-c1f2d99ade45"
      },
      "execution_count": 21,
      "outputs": [
        {
          "output_type": "stream",
          "name": "stdout",
          "text": [
            "Drive already mounted at /content/drive; to attempt to forcibly remount, call drive.mount(\"/content/drive\", force_remount=True).\n"
          ]
        }
      ]
    },
    {
      "cell_type": "code",
      "source": [
        "#import the data:\n",
        "#make sure the path on the line below corresponds to the path where you put your dataset.\n",
        "vehicles_df = pd.read_csv('/content/drive/MyDrive/CS167/datasets/vehicles.csv')"
      ],
      "metadata": {
        "id": "0wCCrNCE_6G9",
        "colab": {
          "base_uri": "https://localhost:8080/"
        },
        "outputId": "06026429-0bbe-44af-9bfd-081fd7da7abe"
      },
      "execution_count": 22,
      "outputs": [
        {
          "output_type": "stream",
          "name": "stderr",
          "text": [
            "/tmp/ipython-input-777305997.py:3: DtypeWarning: Columns (70,71,72,73,74,76,79) have mixed types. Specify dtype option on import or set low_memory=False.\n",
            "  vehicles_df = pd.read_csv('/content/drive/MyDrive/CS167/datasets/vehicles.csv')\n"
          ]
        }
      ]
    },
    {
      "cell_type": "code",
      "source": [
        "# get only vehicles with \"Regular\" fuel type and columns ['comb08', 'year', 'cylinders', 'displ']\n",
        "regular_vehicles = vehicles_df[vehicles_df.fuelType ==\"Regular\"]\n",
        "regular_vehicles_subset = regular_vehicles[['comb08', 'year', 'cylinders', 'displ']]\n",
        "\n",
        "#clean the data; dropping all rows that contain null values\n",
        "regular_vehicles_cleaned = regular_vehicles_subset.dropna()\n",
        "regular_vehicles_cleaned.head()\n",
        "\n",
        "#let's work with only 1,000 rows\n",
        "regular_vehicles_cleaned = regular_vehicles_cleaned.head(1000)"
      ],
      "metadata": {
        "id": "za78QM3wD3DK"
      },
      "execution_count": 23,
      "outputs": []
    },
    {
      "cell_type": "code",
      "source": [
        "#normalize the data\n",
        "\n",
        "#year\n",
        "yr_mean = regular_vehicles_cleaned['year'].mean()\n",
        "yr_std = regular_vehicles_cleaned['year'].std()\n",
        "\n",
        "#cylinders\n",
        "cy_mean = regular_vehicles_cleaned['cylinders'].mean()\n",
        "cy_std = regular_vehicles_cleaned['cylinders'].std()\n",
        "\n",
        "#displ\n",
        "dp_mean = regular_vehicles_cleaned['displ'].mean()\n",
        "dp_std = regular_vehicles_cleaned['displ'].std()\n",
        "\n",
        "#make a copy of the dataframe\n",
        "normalized_vehicle_df = regular_vehicles_cleaned.copy()\n",
        "\n",
        "#replace column with each entry's z-score\n",
        "normalized_vehicle_df['year'] = (normalized_vehicle_df['year'] - yr_mean)/yr_std\n",
        "normalized_vehicle_df['cylinders'] = (normalized_vehicle_df['cylinders'] - cy_mean)/cy_std\n",
        "normalized_vehicle_df['displ'] = (normalized_vehicle_df['displ'] - dp_mean)/dp_std"
      ],
      "metadata": {
        "id": "QssYBO0JFmO6"
      },
      "execution_count": 24,
      "outputs": []
    },
    {
      "cell_type": "markdown",
      "source": [
        "\n",
        "\n",
        "---\n",
        "\n"
      ],
      "metadata": {
        "id": "2z9Fa7V-Kx50"
      }
    },
    {
      "cell_type": "markdown",
      "source": [
        "##1. What does the `mystery_function` do?\n",
        "\n",
        "\n",
        "\n"
      ],
      "metadata": {
        "id": "3U_sI5U6Deuf"
      }
    },
    {
      "cell_type": "code",
      "source": [
        "def mystery_function(y_true: pd.Series, y_pred: pd.Series) -> float:\n",
        "    \"\"\"\n",
        "    Calculate ???? between two pandas Series,\n",
        "    \"\"\"\n",
        "    total_error = 0.0\n",
        "    n = len(y_true)\n",
        "\n",
        "    for i in range(n):\n",
        "        total_error += abs(y_true.iloc[i] - y_pred.iloc[i])\n",
        "\n",
        "    return total_error / n"
      ],
      "metadata": {
        "id": "TwuDJcDlDnsX"
      },
      "execution_count": 25,
      "outputs": []
    },
    {
      "cell_type": "code",
      "source": [
        "def mean_absolute_error(y_true: pd.Series, y_pred: pd.Series) -> float:\n",
        "    \"\"\"\n",
        "    Calculate mean absolute error between two pandas Series,\n",
        "    \"\"\"\n",
        "    total_error = 0.0\n",
        "    n = len(y_true)\n",
        "\n",
        "    for i in range(n):\n",
        "        total_error += abs(y_true.iloc[i] - y_pred.iloc[i])\n",
        "\n",
        "    return total_error / n"
      ],
      "metadata": {
        "id": "OYJ06y0vJUGP"
      },
      "execution_count": 27,
      "outputs": []
    },
    {
      "cell_type": "code",
      "source": [
        "# Example data\n",
        "actual = pd.Series([3, -0.5, 2, 7])\n",
        "predicted = pd.Series([2.5, 0.0, 2, 8])\n",
        "\n",
        "result = mystery_function(actual, predicted)\n",
        "print(\"RESULT:\", result)"
      ],
      "metadata": {
        "colab": {
          "base_uri": "https://localhost:8080/"
        },
        "id": "Mxgv_MIbGIQX",
        "outputId": "e61afee4-cd92-4a80-eaa8-c0ffd2d00328"
      },
      "execution_count": 28,
      "outputs": [
        {
          "output_type": "stream",
          "name": "stdout",
          "text": [
            "RESULT: 0.5\n"
          ]
        }
      ]
    },
    {
      "cell_type": "markdown",
      "source": [
        "Rename the `mystery_function` to be something that is more descriptive."
      ],
      "metadata": {
        "id": "4kZ5L5x-GTfk"
      }
    },
    {
      "cell_type": "markdown",
      "source": [
        "##2. Write a function `mean_squared_error `\n"
      ],
      "metadata": {
        "id": "Ccw3AtxYGmv7"
      }
    },
    {
      "cell_type": "code",
      "source": [
        "#def mean_squared_error(y_true: pd.Series, y_pred: pd.Series) -> float:"
      ],
      "metadata": {
        "id": "0A9ecYcyJis0"
      },
      "execution_count": 12,
      "outputs": []
    },
    {
      "cell_type": "code",
      "source": [
        "import pandas as pd\n",
        "\n",
        "def mean_squared_error(y_true: pd.Series, y_pred: pd.Series) -> float:\n",
        "    \"\"\"\n",
        "    Calculate mse between two pandas Series,\n",
        "    \"\"\"\n",
        "    total_error = 0.0\n",
        "    n = len(y_true)\n",
        "\n",
        "    for i in range(n):\n",
        "        total_error += (y_true.iloc[i] - y_pred.iloc[i])**2\n",
        "\n",
        "    return total_error / n"
      ],
      "metadata": {
        "id": "X9Z5Hr13GMA1"
      },
      "execution_count": 29,
      "outputs": []
    },
    {
      "cell_type": "markdown",
      "source": [
        "##3. How can you test your code to make sure it's working correctly?\n",
        "\n",
        "**Run some test cases to show your work. Prove to yourself that your functions work as expected.**\n"
      ],
      "metadata": {
        "id": "rNMprrWVG2BJ"
      }
    },
    {
      "cell_type": "code",
      "source": [
        "actual = pd.Series([3, 2, 1, 0])\n",
        "predicted = pd.Series([2,1,0,1])\n",
        "# mean squared error should be 1\n",
        "mse = mean_squared_error(actual, predicted)\n",
        "print(\"Mean Squared Error:\", mse)\n",
        "\n"
      ],
      "metadata": {
        "colab": {
          "base_uri": "https://localhost:8080/"
        },
        "id": "cylJ72d59H7D",
        "outputId": "ce836623-fe63-4ac4-a79d-6716688d143c"
      },
      "execution_count": 30,
      "outputs": [
        {
          "output_type": "stream",
          "name": "stdout",
          "text": [
            "Mean Squared Error: 1.0\n"
          ]
        }
      ]
    },
    {
      "cell_type": "code",
      "source": [
        "actual = pd.Series([3, 2, 1, 0])\n",
        "predicted = pd.Series([1,0,-1,2])\n",
        "# mean absolute error should be 2\n",
        "mae = mean_absolute_error(actual, predicted)\n",
        "print(\"Mean Absolute Error:\", mae)"
      ],
      "metadata": {
        "colab": {
          "base_uri": "https://localhost:8080/"
        },
        "id": "D14Hfbgh9sls",
        "outputId": "906d1b51-a721-4686-ae6a-e8f9e5c69767"
      },
      "execution_count": 31,
      "outputs": [
        {
          "output_type": "stream",
          "name": "stdout",
          "text": [
            "Mean Absolute Error: 2.0\n"
          ]
        }
      ]
    },
    {
      "cell_type": "markdown",
      "source": [
        "##4. Implement cross validation -– create training and testing data.\n",
        "Use approximately the first 20% of the shuffled set as testing data.\n"
      ],
      "metadata": {
        "id": "diVJqqxuHDvI"
      }
    },
    {
      "cell_type": "code",
      "source": [
        "# Shuffle the data\n",
        "\n",
        "shuffled_data = normalized_vehicle_df.sample(frac=1, random_state=42)\n",
        "\n",
        "# Compute the split index (20% for test)\n",
        "test_size = int(0.2 * len(shuffled_data))\n",
        "\n",
        "# Set up training and testing sets\n",
        "test_data = shuffled_data.iloc[:test_size]     # first 20%\n",
        "train_data = shuffled_data.iloc[test_size:]    # remaining 80%\n"
      ],
      "metadata": {
        "id": "PQeGVNilgG9N"
      },
      "execution_count": 32,
      "outputs": []
    },
    {
      "cell_type": "markdown",
      "source": [
        "##(This is a big step)\n",
        "##6. Refer to the code from last week that will graph the various values of k for the kNN algorithm.\n",
        "\n",
        "**Note that you will have to adjust the knn algorithm to use a regression**\n",
        "\n",
        "**Determine the best value of k.**\n",
        "\n",
        "**Supply a graph to justify your conclusion.**\n"
      ],
      "metadata": {
        "id": "OtDtVp7CHz94"
      }
    },
    {
      "cell_type": "markdown",
      "source": [
        "Let's bring in our `kNN()` function--here I'm calling it `classify_kNN()` becuase it uses `mode()` to return the prediction which only works for classifcation."
      ],
      "metadata": {
        "id": "amY-BlnAWOXH"
      }
    },
    {
      "cell_type": "code",
      "source": [
        "def regression_kNN(new_example,train_data,k):\n",
        "    #making a copy of the training set just so we don't mess up the original\n",
        "    train_data_copy = train_data.copy()\n",
        "\n",
        "    # 1. calculate distances\n",
        "    train_data_copy['distance_to_new'] = np.sqrt(\n",
        "     (new_example['year'] - train_data_copy['year'])**2\n",
        "    +(new_example['displ'] - train_data_copy['displ'])**2\n",
        "    +(new_example['cylinders'] - train_data_copy['cylinders'])**2)\n",
        "\n",
        "    # 2. sort\n",
        "    sorted_data = train_data_copy.sort_values(['distance_to_new'])\n",
        "\n",
        "    # 3. predict\n",
        "    prediction = sorted_data.iloc[0:k]['comb08'].mean()\n",
        "\n",
        "    return prediction"
      ],
      "metadata": {
        "id": "9X_6MKzJdQ-R"
      },
      "execution_count": 33,
      "outputs": []
    },
    {
      "cell_type": "markdown",
      "source": [
        "Now, let's write a function `regression_all_kNN(test_data, train_data,k):` that:\n",
        "- goes through each example in the `test_data`, and gets the prediction using our `regression_kNN()` function\n",
        "- It will return a pandas `Series` that has the predictions for each row in `test_data`.\n",
        "\n",
        "It should look something like this:"
      ],
      "metadata": {
        "id": "-sd7P86eYSGw"
      }
    },
    {
      "cell_type": "code",
      "source": [
        "def regression_all_kNN(test_data, train_data, k) -> pd.Series:\n",
        "    \"\"\"\n",
        "    Apply kNN regression to each row in the test data.\n",
        "\n",
        "    Parameters:\n",
        "        test_data (pd.DataFrame): Data to classify.\n",
        "        train_data (pd.DataFrame): Training set with labels.\n",
        "        k (int): Number of neighbors.\n",
        "\n",
        "    Returns:\n",
        "        pd.Series: Predicted values for each row in test_data.\n",
        "    \"\"\"\n",
        "    results = []\n",
        "\n",
        "    for i in range(len(test_data)):\n",
        "        value = regression_kNN(test_data.iloc[i], train_data, k)\n",
        "        results.append(value)\n",
        "\n",
        "    return pd.Series(results)"
      ],
      "metadata": {
        "id": "4kalCAL3Yv4i"
      },
      "execution_count": 34,
      "outputs": []
    },
    {
      "cell_type": "markdown",
      "source": [
        "Now, let's pull it all together and see how our kNN does:"
      ],
      "metadata": {
        "id": "_ZLt1_XgY_Kz"
      }
    },
    {
      "cell_type": "code",
      "source": [
        "from sklearn.metrics import accuracy_score\n",
        "\n",
        "#let's try it with 5-nn\n",
        "\n",
        "predictions5NN = regression_all_kNN(test_data,train_data,5)\n",
        "\n",
        "#this will print out our predictions so we can see:\n",
        "# print('ACTUAL            PREDICTIONS')\n",
        "# for i in range(len(test_data)):\n",
        "#     print(test_data['comb08'].iloc[i], \" \", predictions5NN.iloc[i] )\n",
        "\n",
        "# give us an idea of the scale of the errors\n",
        "mse = mean_squared_error(test_data['comb08'], predictions5NN)\n",
        "print(\"mse:\", mse)\n",
        "mae = mean_absolute_error(test_data['comb08'], predictions5NN)\n",
        "print(\"mae:\", mae)\n"
      ],
      "metadata": {
        "id": "097Vo8vkZByl",
        "colab": {
          "base_uri": "https://localhost:8080/"
        },
        "outputId": "19197a28-cbdf-4fc7-997b-74d0ddcb50a2"
      },
      "execution_count": 35,
      "outputs": [
        {
          "output_type": "stream",
          "name": "stdout",
          "text": [
            "mse: 4.8096000000000005\n",
            "mae: 1.5459999999999994\n"
          ]
        }
      ]
    },
    {
      "cell_type": "markdown",
      "source": [
        "Now, let's explore what the accuracy is for a variety of different values of k"
      ],
      "metadata": {
        "id": "KVZtB-enfN9v"
      }
    },
    {
      "cell_type": "code",
      "source": [
        "import matplotlib.pyplot as plt\n",
        "%matplotlib inline\n",
        "\n",
        "k_vals = [1,3,5,9,11,13,15,17,19,21]\n",
        "kNN_mse = []\n",
        "\n",
        "for k in k_vals:\n",
        "    predictions = regression_all_kNN(test_data,train_data,k)\n",
        "    mse = mean_squared_error(test_data['comb08'],predictions)\n",
        "    print(\"mse:\", k,mse)\n",
        "    kNN_mse.append(mse)\n",
        "\n",
        "plt.suptitle('Vehicles k-NN Experiment',fontsize=18)\n",
        "plt.xlabel('k')\n",
        "plt.ylabel('MSE')\n",
        "plt.plot(k_vals,kNN_mse,'ro-',label='MSE')\n",
        "plt.legend(loc='upper right', shadow=True)\n",
        "plt.axis([0,22,4,7.5])\n",
        "\n",
        "plt.show()"
      ],
      "metadata": {
        "id": "sisZKUPHfYdn",
        "colab": {
          "base_uri": "https://localhost:8080/",
          "height": 676
        },
        "outputId": "79fc7c5d-d6a7-45c9-a4bd-00859c581359"
      },
      "execution_count": 36,
      "outputs": [
        {
          "output_type": "stream",
          "name": "stdout",
          "text": [
            "mse: 1 7.335\n",
            "mse: 3 5.097222222222225\n",
            "mse: 5 4.8096000000000005\n",
            "mse: 9 4.479074074074076\n",
            "mse: 11 4.557107438016534\n",
            "mse: 13 4.875798816568038\n",
            "mse: 15 5.195111111111112\n",
            "mse: 17 5.083096885813149\n",
            "mse: 19 5.142049861495842\n",
            "mse: 21 5.299727891156462\n"
          ]
        },
        {
          "output_type": "display_data",
          "data": {
            "text/plain": [
              "<Figure size 640x480 with 1 Axes>"
            ],
            "image/png": "[encoded data removed]"
          },
          "metadata": {}
        }
      ]
    }
  ]
}