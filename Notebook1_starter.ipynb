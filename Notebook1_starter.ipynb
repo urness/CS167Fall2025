{
  "cells": [
    {
      "cell_type": "markdown",
      "metadata": {
        "id": "view-in-github",
        "colab_type": "text"
      },
      "source": [
        "<a href=\"https://colab.research.google.com/github/urness/CS167Fall2025/blob/main/Notebook1_starter.ipynb\" target=\"_parent\"><img src=\"https://colab.research.google.com/assets/colab-badge.svg\" alt=\"Open In Colab\"/></a>"
      ]
    },
    {
      "cell_type": "markdown",
      "source": [
        "# Name: (enter your name here!)"
      ],
      "metadata": {
        "id": "gBcRfxIBULSJ"
      }
    },
    {
      "cell_type": "markdown",
      "metadata": {
        "id": "8V1Slz52hI39"
      },
      "source": [
        "# Notebook #1: Python, Pandas, and Pokemon!\n",
        "\n",
        "**Due Tuesday, September 9th, 2025 before class**\n",
        "\n",
        "The purpose of this first notebook is to help you build confidence using `Python` and `Pandas` while exploring and analyzing a dataset of Pokémon. By the end, you should feel comfortable selecting, filtering, and slicing data in meaningful ways.\n",
        "\n",
        "**Getting Started**\n",
        "\n",
        "1. Download the Pokemon.csv file from Blackboard.\n",
        "\n",
        "2. Upload it to your Google Drive.\n",
        "\n",
        "3. Update the file path in your notebook so that it correctly points to where the dataset is saved.\n",
        "\n",
        "\n",
        "**Expectations**\n",
        "\n",
        "- Use Markdown cells generously. Your notebook should read like a mini-project report rather than just a list of code snippets. Think of it as telling a story with your data: explain what you’re doing, why you’re doing it, and what you learn from it.\n",
        "\n",
        "- Organize your work clearly with headings, explanations, and results so it is easy to follow.\n",
        "\n",
        "**Grading**\n",
        "\n",
        "Your notebook will be evaluated on three key areas:\n",
        "\n",
        "- Clarity of your code – Is your code easy to read, well-structured, and commented where helpful?\n",
        "\n",
        "- Accuracy of your answers – Are your outputs, explanations, and insights correct and supported by your code? If you incorporate anything not directly presented in class (e.g., AI assistance, Pandas documentation, or other outside resources), is it appropriately referenced?\n",
        "\n",
        "- Professionalism of presentation – Does your notebook look polished, with clear formatting, consistent use of Markdown, and a professional tone?"
      ]
    },
    {
      "cell_type": "code",
      "execution_count": null,
      "metadata": {
        "id": "yMLe0EWyLXqZ"
      },
      "outputs": [],
      "source": [
        "import pandas as pd\n",
        "from google.colab import drive\n",
        "drive.mount('/content/drive')"
      ]
    },
    {
      "cell_type": "code",
      "execution_count": null,
      "metadata": {
        "id": "cH-odZShMDUH"
      },
      "outputs": [],
      "source": [
        "#import the data:\n",
        "\n",
        "#make sure the path on the line below corresponds to the path where you put your dataset.\n",
        "#for example, I usually put my input files on 'datasets' directory as shown below\n",
        "poke = pd.read_csv('/content/drive/MyDrive/CS167/datasets/Pokemon.csv')\n",
        "poke.head()"
      ]
    },
    {
      "cell_type": "markdown",
      "metadata": {
        "id": "YtBWVQpFiQpc"
      },
      "source": [
        "## Exercise #1:\n",
        "Print out all of the unique possible values for the `Type 1` column of the dataset.\n",
        "- *Hint: I'm looking for each possible primary type to be ouput once, not a list of primary type of each pokemon. For example, if I tossed a coin 3 times and got Heads, Tails, Heads, the possible values of the coin flip are Heads and Tails. There is a function for this.*"
      ]
    },
    {
      "cell_type": "code",
      "execution_count": null,
      "metadata": {
        "id": "eE_ZrSrQV2_0"
      },
      "outputs": [],
      "source": [
        "# your code\n",
        "# ..."
      ]
    },
    {
      "cell_type": "markdown",
      "metadata": {
        "id": "poxyHULTVpcv"
      },
      "source": [
        "## Exercise #2:\n",
        "Create a subset of data representing pokemon whose primary type is **Fire** 🔥 , and the second type is **Flying** 🦅. Save this DataFrame to the variable name `fire_flying_pokemon`. Display the first 5 lines of this subset. How many total rows are in this new dataframe? Use only functions or commands introduced in class lecture.  \n",
        "*if you use something other than those listed in lecture, I will suspect that you used and AI solution and you will recieve 0 points for this question.*"
      ]
    },
    {
      "cell_type": "code",
      "execution_count": null,
      "metadata": {
        "id": "XFTTrwtTYESB"
      },
      "outputs": [],
      "source": [
        "# your code\n",
        "# ..."
      ]
    },
    {
      "cell_type": "markdown",
      "metadata": {
        "id": "VHl8SCudrePQ"
      },
      "source": [
        "## Exercise #3\n",
        "Using `fire_flying_pokemon`, what is the median **Defense** of Fire Flying Pokemon?"
      ]
    },
    {
      "cell_type": "code",
      "execution_count": null,
      "metadata": {
        "id": "ce2W4c8WbdQ-"
      },
      "outputs": [],
      "source": [
        "# your code\n",
        "# ..."
      ]
    },
    {
      "cell_type": "markdown",
      "metadata": {
        "id": "0Y67fkLBrqg6"
      },
      "source": [
        "## Exercise #4\n",
        "From the original dataset, create a subset with only pokemon from Generation 1 (Generation Column with value 1). Include 5 columns, the `Generation`, `Name`, `Type 1`, `Type 2`, and `Total`.  \n",
        "Display the first 5 rows of the resulting dataframe."
      ]
    },
    {
      "cell_type": "code",
      "execution_count": null,
      "metadata": {
        "id": "w8um3sVor2Kn",
        "collapsed": true
      },
      "outputs": [],
      "source": [
        "# your code\n",
        "# ..."
      ]
    },
    {
      "cell_type": "markdown",
      "metadata": {
        "id": "SgXXm5GxsHKA"
      },
      "source": [
        "## Exercise #5\n",
        "\n",
        "Which primary type of pokemon is the overall strongest? (I'm looking the `Type 1` category that has the highest average of the 'Total' column.  *hint: what type, grouped by Type-1 -  (e.g. Fire v Water v Grass etc.) has the highest average*). What is that average value?"
      ]
    },
    {
      "cell_type": "code",
      "execution_count": null,
      "metadata": {
        "id": "ppZBXANesLWG"
      },
      "outputs": [],
      "source": [
        "# your code\n",
        "# ..."
      ]
    },
    {
      "cell_type": "markdown",
      "metadata": {
        "id": "FQDXLDjnETAg"
      },
      "source": [
        "## Exercise #6\n",
        "**Do something cool**. Using the Pokemon dataset, get creative and show me something about the dataset. Use a text cell to explain what you did.\n",
        " - *Need some help gettting started here? Try asking your own question about the dataset and see if you can use Python and Pandas to answer the question*\n",
        " - *Your approach should be unique. Note that questions and answers asked of Gemini are rather distinct. This question should be constructed without the use of any genAI tools.*"
      ]
    },
    {
      "cell_type": "code",
      "execution_count": null,
      "metadata": {
        "id": "SLC2HlH-Ebhu"
      },
      "outputs": [],
      "source": [
        "# your code\n",
        "# ..."
      ]
    }
  ],
  "metadata": {
    "colab": {
      "provenance": [],
      "include_colab_link": true
    },
    "kernelspec": {
      "display_name": "Python 3",
      "language": "python",
      "name": "python3"
    },
    "language_info": {
      "codemirror_mode": {
        "name": "ipython",
        "version": 3
      },
      "file_extension": ".py",
      "mimetype": "text/x-python",
      "name": "python",
      "nbconvert_exporter": "python",
      "pygments_lexer": "ipython3",
      "version": "3.6.7"
    }
  },
  "nbformat": 4,
  "nbformat_minor": 0
}