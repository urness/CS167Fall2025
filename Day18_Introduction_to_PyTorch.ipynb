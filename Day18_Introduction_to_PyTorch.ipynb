{
  "nbformat": 4,
  "nbformat_minor": 0,
  "metadata": {
    "colab": {
      "provenance": [],
      "authorship_tag": "ABX9TyPNd/nwa1Jt9djyuJimOyGD",
      "include_colab_link": true
    },
    "kernelspec": {
      "name": "python3",
      "display_name": "Python 3"
    },
    "language_info": {
      "name": "python"
    }
  },
  "cells": [
    {
      "cell_type": "markdown",
      "metadata": {
        "id": "view-in-github",
        "colab_type": "text"
      },
      "source": [
        "<a href=\"https://colab.research.google.com/github/urness/CS167Fall2025/blob/main/Day18_Introduction_to_PyTorch.ipynb\" target=\"_parent\"><img src=\"https://colab.research.google.com/assets/colab-badge.svg\" alt=\"Open In Colab\"/></a>"
      ]
    },
    {
      "cell_type": "markdown",
      "source": [
        "# CS167: Day18\n",
        "## Introduction to PyTorch\n",
        "\n",
        "#### CS167: Machine Learning, Fall 2025\n"
      ],
      "metadata": {
        "id": "8TmDLmOfqmAF"
      }
    },
    {
      "cell_type": "markdown",
      "source": [
        "## Introduction to PyTorch\n",
        "\n",
        "[PyTorch documentation](https://docs.pytorch.org/docs/stable/torch.html)\n",
        "\n",
        "We can use PyTorch Framework to build and train MLPs and other neural networks such as CNN, RNN, LSTM, Transformers. Let's learn the basics of PyTorch.\n",
        "\n",
        "In a PyTorch deep learning model, all of your data (inputs, outputs, learning weights) will be expressed as tensors.\n",
        "\n",
        "**Tensors are multidimensional arrays that can contain floating point, integer, or Boolean data.**"
      ],
      "metadata": {
        "id": "lrGWoe30iXEz"
      }
    },
    {
      "cell_type": "markdown",
      "source": [
        "Tensors are similar to NumPy's ndarrays, except that tensors can run on GPUs or other hardware accelerators. Tensors are optimized for automatic differentiation (PyTorch's Autograd)"
      ],
      "metadata": {
        "id": "_HbzrNNsiZsb"
      }
    },
    {
      "cell_type": "code",
      "source": [
        "# import torch library\n",
        "import torch\n",
        "import numpy as np"
      ],
      "metadata": {
        "id": "hB5jZzxWifLr"
      },
      "execution_count": null,
      "outputs": []
    },
    {
      "cell_type": "markdown",
      "source": [
        "__Tensors can be initialized__\n",
        "- from data\n",
        "- from another numpy array\n",
        "- from another tensor (using __.to_numpy()__ method)\n"
      ],
      "metadata": {
        "id": "OKBTXg-RinOx"
      }
    },
    {
      "cell_type": "code",
      "source": [
        "my_tensor = torch.tensor( [[1, 2, 3], [4, 5, 6]] )\n",
        "print(my_tensor)"
      ],
      "metadata": {
        "id": "-FtnnXcFiqzB"
      },
      "execution_count": null,
      "outputs": []
    },
    {
      "cell_type": "code",
      "source": [
        "data = [[1, 2, 3], [10, 20, 30] ]\n",
        "my_tensor1 = torch.tensor(data)\n",
        "print(my_tensor1)"
      ],
      "metadata": {
        "id": "Lx_i_HCmkrvZ"
      },
      "execution_count": null,
      "outputs": []
    },
    {
      "cell_type": "code",
      "source": [
        "data_np_array = np.array([[1, 2, 3], [10, 20, 30], [50, 60, 70] ] )\n",
        "my_tensor2 = torch.from_numpy(data_np_array)\n",
        "print(my_tensor2)"
      ],
      "metadata": {
        "id": "ZOehRSxdkutU"
      },
      "execution_count": null,
      "outputs": []
    },
    {
      "cell_type": "markdown",
      "source": [
        "__Convert data to a numpy array from a tensor__\n",
        "- use the method __.numpy()__"
      ],
      "metadata": {
        "id": "0IifQHlKkyRa"
      }
    },
    {
      "cell_type": "code",
      "source": [
        "my_data_np = my_tensor2.numpy()\n",
        "print('converted numpy array:')\n",
        "print( my_data_np )"
      ],
      "metadata": {
        "id": "mxjqQvdEk0q9"
      },
      "execution_count": null,
      "outputs": []
    },
    {
      "cell_type": "code",
      "source": [
        "my_data_np = my_tensor1.numpy()\n",
        "print(my_data_np)"
      ],
      "metadata": {
        "id": "j9U9zKpAk3CY"
      },
      "execution_count": null,
      "outputs": []
    },
    {
      "cell_type": "markdown",
      "source": [
        "__Random and fixed initialization of Tensors__:\n",
        "- initializing with random values given the shape of a Tensor\n",
        "- initializing with fixed values given the shape of a Tensor"
      ],
      "metadata": {
        "id": "0s5mWNnbk542"
      }
    },
    {
      "cell_type": "code",
      "source": [
        "torch.manual_seed(41) # changing the seed value will create different sets of random numbers\n",
        "my_tensor_random = torch.rand( (5, 2) )\n",
        "print('random tensor of shape (5-rows, 2-columns): ')\n",
        "print( my_tensor_random )"
      ],
      "metadata": {
        "id": "_flgMcumk8M4"
      },
      "execution_count": null,
      "outputs": []
    },
    {
      "cell_type": "code",
      "source": [
        "torch.manual_seed(41) # make the random number generation reproducible by setting a fixed seed value\n",
        "\n",
        "my_tensor_random = torch.rand( (3, 5, 4) )\n",
        "\n",
        "print('random tensor of shape (3-channels, 5-rows, 4-columns):')\n",
        "print( my_tensor_random )"
      ],
      "metadata": {
        "id": "Iz6eQgFBlBZR"
      },
      "execution_count": null,
      "outputs": []
    },
    {
      "cell_type": "code",
      "source": [
        "tn = torch.zeros( (3,3) )\n",
        "print(tn)"
      ],
      "metadata": {
        "id": "db3BY8JWlL0h"
      },
      "execution_count": null,
      "outputs": []
    },
    {
      "cell_type": "code",
      "source": [
        "my_tensor_zero = torch.zeros((5, 3))\n",
        "print('tensor initialized of shape (2-rows, 3-columns) with a value of zeros in all entries: \\n', my_tensor_zero)"
      ],
      "metadata": {
        "id": "ZRfO3NV1lPZ7"
      },
      "execution_count": null,
      "outputs": []
    },
    {
      "cell_type": "code",
      "source": [
        "my_tensor_ones = torch.ones( (5, 3) )\n",
        "print('tensor initialized of shape (5-rows, 3-columns) with a value of 1.0 in all entries: \\n', my_tensor_ones)"
      ],
      "metadata": {
        "id": "ojWlBCJzqnFo"
      },
      "execution_count": null,
      "outputs": []
    },
    {
      "cell_type": "code",
      "source": [
        "my_tensor_fixed = 10*torch.ones( (5, 3) )\n",
        "print('tensor initialized of shape (5-rows, 3-columns) with a value of 25 in all entries: \\n', my_tensor_fixed)"
      ],
      "metadata": {
        "id": "k20w-OjcqosL"
      },
      "execution_count": null,
      "outputs": []
    },
    {
      "cell_type": "markdown",
      "source": [
        "__Checking the Tensor attributes__\n",
        "- use __.shape__ attribute to find the sizes of the tensor\n",
        "- use __.device__ attribute to find whether the tensor is stored in __cpu__ vs __gpu__\n",
        "\n",
        "Tensors are created on the __cpu__. You can explicitly move tensors to the __gpu__ using .to method."
      ],
      "metadata": {
        "id": "UuSq38c0qrcy"
      }
    },
    {
      "cell_type": "code",
      "source": [
        "print('size of the tensor: ', my_tensor_random.shape)\n",
        "print('device of the tensor: ', my_tensor_random.device)"
      ],
      "metadata": {
        "id": "0KDldDJfqv4Y"
      },
      "execution_count": null,
      "outputs": []
    },
    {
      "cell_type": "markdown",
      "source": [
        "__Check the data in individual dimensions__ using slicing operation"
      ],
      "metadata": {
        "id": "muNkPJfIq0Fz"
      }
    },
    {
      "cell_type": "code",
      "source": [
        "my_tensor_random = torch.rand((2, 4))\n",
        "print('random tensor of shape (2-rows, 4-columns): \\n\\n', my_tensor_random)\n",
        "print('\\n\\n')\n",
        "print('Row-wise data exploration\\n-------------------------\\n')\n",
        "print('data in the first row: ',    my_tensor_random[0,:])\n",
        "print('data in the second row: ',   my_tensor_random[1,:])\n",
        "print('\\n\\n')\n",
        "print('Column-wise data exploration\\n----------------------------\\n')\n",
        "print('data in the first column: ', my_tensor_random[:,0])\n",
        "print('data in the second column: ',my_tensor_random[:,1])\n",
        "print('data in the third column: ', my_tensor_random[:,2])\n",
        "print('data in the fourth column: ',my_tensor_random[:,3])\n"
      ],
      "metadata": {
        "id": "ezESnhM-q2zb"
      },
      "execution_count": null,
      "outputs": []
    },
    {
      "cell_type": "markdown",
      "source": [
        "__transpose the tensor__ turn the rows into columns and vice versa:\n",
        "- [torch.transpose()](https://pytorch.org/docs/stable/generated/torch.transpose.html#torch.transpose)"
      ],
      "metadata": {
        "id": "ropGYwJ7q7TB"
      }
    },
    {
      "cell_type": "code",
      "source": [
        "my_tensor_random = torch.rand((2,3))\n",
        "my_tensor_transposed = torch.transpose(my_tensor_random, 0, 1)\n",
        "print('before transpose the tensor was: \\n', my_tensor_random)\n",
        "print('\\n\\n')\n",
        "print('transposed matrix: \\n', my_tensor_transposed)"
      ],
      "metadata": {
        "id": "dCKGFfZPrqr6"
      },
      "execution_count": null,
      "outputs": []
    },
    {
      "cell_type": "markdown",
      "source": [
        "__Exercises__\n",
        "\n",
        "Please finish the following activities."
      ],
      "metadata": {
        "id": "_4nD-ofys8UG"
      }
    },
    {
      "cell_type": "code",
      "source": [
        "# Ex1: Create a tensor object (call it 'tensor1') that corresponds to a 1D vector with a size as follows: rows=5\n",
        "# you should initialize the tensor with zeros (0s) and then display the tensor"
      ],
      "metadata": {
        "id": "yv1Wp_Jbs-zM"
      },
      "execution_count": null,
      "outputs": []
    },
    {
      "cell_type": "code",
      "source": [
        "# Ex2: Create a tensor object (call it 'tensor2') that corresponds to a 2D matrix with a size as follows: rows=3, cols=2\n",
        "# you should initialize the tensor with values of -15 and then display the tensor;\n",
        "# note that Gemini will do it one way; find another way (using .ones)"
      ],
      "metadata": {
        "id": "gvm6WIwfvCQ1"
      },
      "execution_count": null,
      "outputs": []
    },
    {
      "cell_type": "code",
      "source": [
        "# Ex3: Create a tensor object (call it 'tensor3') that corresponds to a 2D matrix with a size as follows: rows=3, cols=2\n",
        "# seed the random number generator with 41\n",
        "# you should initialize the tensor with random values and then display the tensor"
      ],
      "metadata": {
        "id": "4YJUNT6Avona"
      },
      "execution_count": null,
      "outputs": []
    },
    {
      "cell_type": "code",
      "source": [
        "# Ex4: transpose your tensor3 so that rows become columns and columns become row\n",
        "# then display the tensor"
      ],
      "metadata": {
        "id": "3PgefmWiv8f0"
      },
      "execution_count": null,
      "outputs": []
    },
    {
      "cell_type": "code",
      "source": [
        "# Ex5: create 2D numpy array with the following content [[100, 200, 300],[12.5, 22.5, 33.5]]\n",
        "# then use the numpy array to initialize a new tensor object (call it 'tensor5')"
      ],
      "metadata": {
        "id": "HjVnMLIlwB-Y"
      },
      "execution_count": null,
      "outputs": []
    },
    {
      "cell_type": "code",
      "source": [
        "# Ex6: Now get the data from your 'tensor5' back to a numpy array"
      ],
      "metadata": {
        "id": "q6C_YoIBwTbs"
      },
      "execution_count": null,
      "outputs": []
    },
    {
      "cell_type": "code",
      "source": [
        "## the dimensions of a 3D structure as a tensor in PyTorch are denoted as (channels, height, width)\n",
        "# Ex7: Create a tensor object (call it 'tensor7') that corresponds to a 3D volume with a size as follows: channels=2, rows (height)=3, columns (width)=4\n",
        "# you should initialize the tensor with random values and then display the tensor\n"
      ],
      "metadata": {
        "id": "waGtIyhPwZ-1"
      },
      "execution_count": null,
      "outputs": []
    },
    {
      "cell_type": "code",
      "source": [
        "# Ex8: Can you find the channel size of your tensor7? Find and then display it.\n"
      ],
      "metadata": {
        "id": "yKr26p-wwsG9"
      },
      "execution_count": null,
      "outputs": []
    },
    {
      "cell_type": "code",
      "source": [
        "# Ex9: print the 2D matrix in the first channel of your 'tensor7' using slicing operation\n"
      ],
      "metadata": {
        "id": "_Uezsmt7xlaT"
      },
      "execution_count": null,
      "outputs": []
    },
    {
      "cell_type": "code",
      "source": [
        "\n",
        "# Ex10: print the 2D matrix in the second channel of your 'tensor7' using slicing operation"
      ],
      "metadata": {
        "id": "bAzOv0G7xnGr"
      },
      "execution_count": null,
      "outputs": []
    }
  ]
}